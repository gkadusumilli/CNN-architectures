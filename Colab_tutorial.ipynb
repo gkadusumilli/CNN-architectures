{
  "nbformat": 4,
  "nbformat_minor": 0,
  "metadata": {
    "colab": {
      "name": "Colab_tutorial.ipynb",
      "provenance": [],
      "collapsed_sections": [],
      "toc_visible": true,
      "authorship_tag": "ABX9TyP8Q62EstSMgDIHPa1jqXb7",
      "include_colab_link": true
    },
    "kernelspec": {
      "name": "python3",
      "display_name": "Python 3"
    },
    "accelerator": "GPU"
  },
  "cells": [
    {
      "cell_type": "markdown",
      "metadata": {
        "id": "view-in-github",
        "colab_type": "text"
      },
      "source": [
        "<a href=\"https://colab.research.google.com/github/gkadusumilli/CNN-architectures/blob/main/Colab_tutorial.ipynb\" target=\"_parent\"><img src=\"https://colab.research.google.com/assets/colab-badge.svg\" alt=\"Open In Colab\"/></a>"
      ]
    },
    {
      "cell_type": "markdown",
      "metadata": {
        "id": "XiVa0nQKTcy4"
      },
      "source": [
        "\r\n",
        "**URL**: https://colab.research.google.com/ \r\n",
        "\r\n",
        "**Colab H/W specifications**:\r\n",
        "\r\n",
        "| Parameter           | Google Colab     |\r\n",
        "|---------------------|------------------|\r\n",
        "| GPU                 | Nvidia K80/T4    |\r\n",
        "| GPU Memory          | 12GB/16GB        |\r\n",
        "| GPU Memory clock    | 0.82GHz/ 1.59GHz |\r\n",
        "| Performance         | 4.1 TFlops       |\r\n",
        "| No. CPU cores       | 2                |\r\n",
        "| Available RAM       | 12GB             |\r\n",
        "| Max. Execution time | 12 Hours         |\r\n",
        "| Max. idle time      | 90 min           |\r\n",
        "\r\n",
        "\r\n",
        "**Advantages of using Colab?**\r\n",
        "\r\n",
        "1. Free GPU !!! (One of the main reason I beleive for thriving the DL community is **Open-source** and **Access to GPU's***\r\n",
        "\r\n",
        "2. Sharing: We can share the notebooks easily with others having a Gmail account. we can also share through the notebook URL for public access.\r\n",
        "\r\n",
        "3. Github: we can easily **clone the git repos** with single command and can save the notebooks with hassle free UI.\r\n",
        "\r\n",
        "4. File downloads: In ML / DL, Datasets are crucial and we know the file sizes are huge, anyone with moderate internet connectivity will take ages to download but with the colab we can download in minutes (you heard right)\r\n",
        "\r\n",
        "5. Code snippets: Colab has tiny code snippets, You can explore these on your own\r\n",
        "\r\n",
        "6. Default pre loaded python packages: Colab noteboook is pre installed with the libraries (up to date) for DL/ML \r\n",
        "\r\n",
        "\r\n",
        "\r\n",
        "\r\n",
        "***A little caution***\r\n",
        "\r\n",
        "1. If we close the tab or lost internet connection for more than 90 minutes, all the work will be lost and a new VM instance will be assigned.\r\n",
        "\r\n",
        "2. Colab will remove the running VM after 12 hours no matter how much time remained to complete the training.\r\n",
        "\r\n",
        "\r\n",
        "\r\n"
      ]
    },
    {
      "cell_type": "markdown",
      "metadata": {
        "id": "4-z40YDDdtA4"
      },
      "source": [
        "### Know allocated specs"
      ]
    },
    {
      "cell_type": "markdown",
      "metadata": {
        "id": "m8JNKg2wXkFL"
      },
      "source": [
        "**Knowing the allocated GPU VM instance specs**\r\n",
        "\r\n",
        "Google colab has two different GPU models namely K80 and T4. However we cannot select which of them you want due to the availability issues."
      ]
    },
    {
      "cell_type": "code",
      "metadata": {
        "id": "RU2Cvr4pZTfB"
      },
      "source": [
        "!nvidia-smi"
      ],
      "execution_count": null,
      "outputs": []
    },
    {
      "cell_type": "markdown",
      "metadata": {
        "id": "9bVcKlTWdqZp"
      },
      "source": [
        "**Know the CPU and RAM info**"
      ]
    },
    {
      "cell_type": "code",
      "metadata": {
        "id": "Rn-eZ1oyeDPn"
      },
      "source": [
        "!cat /proc/cpuinfo\r\n",
        "!cat /proc/meminfo"
      ],
      "execution_count": null,
      "outputs": []
    },
    {
      "cell_type": "markdown",
      "metadata": {
        "id": "h_wrGKlkYnIn"
      },
      "source": [
        "### Setting up the libraries"
      ]
    },
    {
      "cell_type": "markdown",
      "metadata": {
        "id": "eUmxjSGIYxC_"
      },
      "source": [
        "**1. command to check the installed packages**"
      ]
    },
    {
      "cell_type": "code",
      "metadata": {
        "id": "bMGVGTYkYu-w"
      },
      "source": [
        "!pip list "
      ],
      "execution_count": null,
      "outputs": []
    },
    {
      "cell_type": "markdown",
      "metadata": {
        "id": "kFBZ_kABZjSW"
      },
      "source": [
        "**2. Package installation**"
      ]
    },
    {
      "cell_type": "markdown",
      "metadata": {
        "id": "GVbk6xDmZCkd"
      },
      "source": [
        "Colab comes with the pre-installed packages, if you feel the need of other packages you're free to install "
      ]
    },
    {
      "cell_type": "code",
      "metadata": {
        "colab": {
          "base_uri": "https://localhost:8080/"
        },
        "id": "1-mH9YMWZDlB",
        "outputId": "ee6aeb38-37bb-47e7-d19b-f65bab29231b"
      },
      "source": [
        "#Option-1: Using pip command\r\n",
        "\r\n",
        "!pip install opencv-contrib-python\r\n",
        "\r\n",
        "#Option-2: using apt-get command\r\n",
        "\r\n",
        "!apt-get -qq install -y graphviz && pip install -q pydot\r\n"
      ],
      "execution_count": null,
      "outputs": [
        {
          "output_type": "stream",
          "text": [
            "Requirement already satisfied: opencv-contrib-python in /usr/local/lib/python3.6/dist-packages (4.1.2.30)\n",
            "Requirement already satisfied: numpy>=1.11.3 in /usr/local/lib/python3.6/dist-packages (from opencv-contrib-python) (1.19.5)\n"
          ],
          "name": "stdout"
        }
      ]
    },
    {
      "cell_type": "markdown",
      "metadata": {
        "id": "1WGNXo9_Zrk2"
      },
      "source": [
        "**3. Command to check the specific package version**"
      ]
    },
    {
      "cell_type": "code",
      "metadata": {
        "colab": {
          "base_uri": "https://localhost:8080/",
          "height": 35
        },
        "id": "ztdMZ8uoZvyV",
        "outputId": "f440f4c6-bbdc-489b-f8ca-9b91811916a5"
      },
      "source": [
        "import keras\r\n",
        "\r\n",
        "keras.__version__"
      ],
      "execution_count": null,
      "outputs": [
        {
          "output_type": "execute_result",
          "data": {
            "application/vnd.google.colaboratory.intrinsic+json": {
              "type": "string"
            },
            "text/plain": [
              "'2.4.3'"
            ]
          },
          "metadata": {
            "tags": []
          },
          "execution_count": 4
        }
      ]
    },
    {
      "cell_type": "markdown",
      "metadata": {
        "id": "Ua1DRSrYaBNZ"
      },
      "source": [
        "### Upload / Download the Files/datasets"
      ]
    },
    {
      "cell_type": "markdown",
      "metadata": {
        "id": "hg5B3evraORZ"
      },
      "source": [
        "**1. Upload files from the local directory**\r\n",
        "\r\n",
        "To upload data from local machine\r\n",
        "\r\n",
        "* Run the below cell (To run the cell use, (shift+enter) or play button at the beginning of the cell.\r\n",
        "\r\n",
        "* Click on **Choose Files**, local machine file directory window pops up and then choose the file (image/video/document/ .etc) of your need to upload.\r\n",
        "\r\n"
      ]
    },
    {
      "cell_type": "code",
      "metadata": {
        "id": "m2D5hMFcTGl0"
      },
      "source": [
        "from google.colab import files\r\n",
        "\r\n",
        "files.upload()"
      ],
      "execution_count": null,
      "outputs": []
    },
    {
      "cell_type": "markdown",
      "metadata": {
        "id": "c1YwMGimbdlN"
      },
      "source": [
        "**2. Download from the Google drive**\r\n",
        "\r\n",
        "Data can be downloaded from our own Gdrive or we can also download drive files shared by others (public link)\r\n",
        "\r\n",
        "Let's get started \r\n",
        "\r\n",
        "1. Access the data from our Gdrive\r\n"
      ]
    },
    {
      "cell_type": "code",
      "metadata": {
        "id": "l-hLo4mMeM5F"
      },
      "source": [
        "from google.colab import drive\r\n",
        "\r\n",
        "drive.mount('/content/gdrive')"
      ],
      "execution_count": null,
      "outputs": []
    },
    {
      "cell_type": "markdown",
      "metadata": {
        "id": "XxoMhzu2fO8k"
      },
      "source": [
        ">2. Accessing Gdrive files shared in public\r\n",
        "\r\n",
        "> Example: \r\n",
        "1. You'll fing the drive URL something similar shared below \r\n",
        ">>https://drive.google.com/open?id=0B_URf9ZWjSC11Xzc4R2d0N2c\r\n",
        "\r\n",
        "2. Then copy the alpha numeric characters **after** ?id =\r\n",
        "\r\n",
        "\r\n"
      ]
    },
    {
      "cell_type": "code",
      "metadata": {
        "id": "dO242xXDbrd-"
      },
      "source": [
        "!gdown --id 0B_URf9ZWjAW7SC11Xzc4R2d0N2c"
      ],
      "execution_count": null,
      "outputs": []
    },
    {
      "cell_type": "markdown",
      "metadata": {
        "id": "_-L38Mjqodis"
      },
      "source": [
        "**3. Downloading Files from the website**\r\n",
        "\r\n",
        "To download the files from the website then we use **!wget** command"
      ]
    },
    {
      "cell_type": "code",
      "metadata": {
        "id": "G2PgEIoNocrQ"
      },
      "source": [
        "!wget http://yann.lecun.com/exdb/mnist/train-images-idx3-ubyte.gz"
      ],
      "execution_count": null,
      "outputs": []
    },
    {
      "cell_type": "markdown",
      "metadata": {
        "id": "HC26W8HQoaN7"
      },
      "source": [
        "### Zip/Unzip, untar the folders\r\n"
      ]
    },
    {
      "cell_type": "markdown",
      "metadata": {
        "id": "3T-O_9CLpKFB"
      },
      "source": [
        "**1. Zip the folder**\r\n",
        "\r\n",
        "Syntax\r\n",
        "!zip (zip file name.zip) (source folder to zip)"
      ]
    },
    {
      "cell_type": "code",
      "metadata": {
        "id": "2WlTY6u2pNqV"
      },
      "source": [
        "!zip data.zip /content/sample_data "
      ],
      "execution_count": null,
      "outputs": []
    },
    {
      "cell_type": "markdown",
      "metadata": {
        "id": "0joX2YjHppLf"
      },
      "source": [
        "**2. Unzip the folder**\r\n",
        "\r\n",
        "syntax: \r\n",
        "\r\n",
        "!unzip (path to the zip folder) -d (destination folder)"
      ]
    },
    {
      "cell_type": "code",
      "metadata": {
        "id": "9uj1tuPrprpo"
      },
      "source": [
        "!unzip data.zip -d /content"
      ],
      "execution_count": null,
      "outputs": []
    },
    {
      "cell_type": "markdown",
      "metadata": {
        "id": "QTbYPdbbry1v"
      },
      "source": [
        "**3. Extract tar files**\r\n"
      ]
    },
    {
      "cell_type": "code",
      "metadata": {
        "id": "caFqcuDsr3CB"
      },
      "source": [
        "!tar -xvf  '/content/train-images-idx3-ubyte'"
      ],
      "execution_count": null,
      "outputs": []
    },
    {
      "cell_type": "markdown",
      "metadata": {
        "id": "Op1x8ruCs39T"
      },
      "source": [
        "### Copy / Move files\r\n"
      ]
    },
    {
      "cell_type": "code",
      "metadata": {
        "colab": {
          "base_uri": "https://localhost:8080/"
        },
        "id": "C6Psc8Movbvp",
        "outputId": "7972cbb4-91c3-4360-d0ba-9ac558e7840b"
      },
      "source": [
        "# To list files within the directory \r\n",
        "# !ls with the folder path\r\n",
        "\r\n",
        "!ls /content/content/"
      ],
      "execution_count": null,
      "outputs": [
        {
          "output_type": "stream",
          "text": [
            "ls: cannot access '/content/content/': No such file or directory\n"
          ],
          "name": "stdout"
        }
      ]
    },
    {
      "cell_type": "code",
      "metadata": {
        "id": "lR7IPHu7s9CD"
      },
      "source": [
        "#To copy files !cp <source file> <destination file>\r\n",
        "!cp /content/data.zip /content/content"
      ],
      "execution_count": null,
      "outputs": []
    },
    {
      "cell_type": "code",
      "metadata": {
        "id": "h7MB6yvetiBA"
      },
      "source": [
        "# command to move files\r\n",
        "!mv '/content/data.zip' '/content/content/sample_data'"
      ],
      "execution_count": null,
      "outputs": []
    },
    {
      "cell_type": "markdown",
      "metadata": {
        "id": "9_8qTRlzvKuW"
      },
      "source": [
        "### Delete a file/folder\r\n",
        "\r\n",
        "To delete a file, *!rm* command is used "
      ]
    },
    {
      "cell_type": "code",
      "metadata": {
        "id": "AIgHpupZvWEx"
      },
      "source": [
        "!rm '/content/Trolling Euclid.pdf'"
      ],
      "execution_count": null,
      "outputs": []
    },
    {
      "cell_type": "markdown",
      "metadata": {
        "id": "oRhszymVvvjn"
      },
      "source": [
        "To delete a folder, *!rm -rf* command is used"
      ]
    },
    {
      "cell_type": "code",
      "metadata": {
        "id": "uXRDiPoWvsS9"
      },
      "source": [
        "!rm -rf /content/check"
      ],
      "execution_count": null,
      "outputs": []
    },
    {
      "cell_type": "markdown",
      "metadata": {
        "id": "xyOPmN0KvOgi"
      },
      "source": [
        "### Downloading datasets from Kaggle API\r\n",
        "\r\n",
        "1. Go to your account, Scroll to API section and Click Expire API Token to remove previous tokens\r\n",
        "\r\n",
        "2. Click on Create New API Token - It will download kaggle.json file on your machine.\r\n",
        "\r\n",
        "3. Go to your Google Colab project file and run the following commands:\r\n"
      ]
    },
    {
      "cell_type": "code",
      "metadata": {
        "id": "Xz5RydRLxdBy"
      },
      "source": [
        "! pip install -q kaggle"
      ],
      "execution_count": null,
      "outputs": []
    },
    {
      "cell_type": "code",
      "metadata": {
        "id": "_6kvA7sMxeOD"
      },
      "source": [
        "#upload the kaggle.json file that you downloaded by following the above steps\r\n",
        "from google.colab import files\r\n",
        "\r\n",
        "files.upload()"
      ],
      "execution_count": null,
      "outputs": []
    },
    {
      "cell_type": "code",
      "metadata": {
        "id": "SjoYmmd0TgFD"
      },
      "source": [
        "! mkdir ~/.kaggle"
      ],
      "execution_count": null,
      "outputs": []
    },
    {
      "cell_type": "code",
      "metadata": {
        "id": "Ti164vN7TyJO"
      },
      "source": [
        "#Make directory named kaggle and copy kaggle.json file there.\r\n",
        "! cp kaggle.json ~/.kaggle/"
      ],
      "execution_count": null,
      "outputs": []
    },
    {
      "cell_type": "code",
      "metadata": {
        "id": "Y_ZuBD9iT0fP"
      },
      "source": [
        "#change the permission of the file\r\n",
        "! chmod 600 ~/.kaggle/kaggle.json"
      ],
      "execution_count": null,
      "outputs": []
    },
    {
      "cell_type": "code",
      "metadata": {
        "id": "9Xb3T2s8akTU"
      },
      "source": [
        "! kaggle datasets list"
      ],
      "execution_count": null,
      "outputs": []
    },
    {
      "cell_type": "code",
      "metadata": {
        "id": "sXLlhZRzT3bm"
      },
      "source": [
        "! kaggle datasets download -d emmarex/plantdisease"
      ],
      "execution_count": null,
      "outputs": []
    },
    {
      "cell_type": "code",
      "metadata": {
        "id": "SeIsmi9rUK8M"
      },
      "source": [
        "!unzip /content/plantdisease.zip"
      ],
      "execution_count": null,
      "outputs": []
    },
    {
      "cell_type": "markdown",
      "metadata": {
        "id": "xOlHrQ_Lasdh"
      },
      "source": [
        "### Cloning Git repo"
      ]
    },
    {
      "cell_type": "code",
      "metadata": {
        "id": "arsEK74OaxiB"
      },
      "source": [
        "#To clone the git repos we use !git clone repo\r\n",
        "\r\n",
        "!git clone https://github.com/tensorflow/models.git"
      ],
      "execution_count": null,
      "outputs": []
    },
    {
      "cell_type": "markdown",
      "metadata": {
        "id": "_LDjIBXPdPUK"
      },
      "source": [
        "### Running .py files"
      ]
    },
    {
      "cell_type": "code",
      "metadata": {
        "id": "KpbQPaItdSeh"
      },
      "source": [
        "!py /content/loader.py"
      ],
      "execution_count": null,
      "outputs": []
    },
    {
      "cell_type": "markdown",
      "metadata": {
        "id": "is1H1GyKe9a6"
      },
      "source": [
        "### Changing working directories\r\n",
        "\r\n"
      ]
    },
    {
      "cell_type": "code",
      "metadata": {
        "colab": {
          "base_uri": "https://localhost:8080/"
        },
        "id": "k69kgH-pe8bP",
        "outputId": "8512de13-a188-4738-fc29-79d833d67af5"
      },
      "source": [
        "#to know present working directory\r\n",
        "!pwd"
      ],
      "execution_count": null,
      "outputs": [
        {
          "output_type": "stream",
          "text": [
            "/content\n"
          ],
          "name": "stdout"
        }
      ]
    },
    {
      "cell_type": "code",
      "metadata": {
        "id": "HPKZp9fRfM8M"
      },
      "source": [
        "#Commands to find sub directories\r\n",
        "!ls /content/sample_data"
      ],
      "execution_count": null,
      "outputs": []
    },
    {
      "cell_type": "markdown",
      "metadata": {
        "id": "-GSgN3HPfa4H"
      },
      "source": [
        "### Running Tensorboard within colab"
      ]
    },
    {
      "cell_type": "code",
      "metadata": {
        "id": "wXtzAf9WffBv"
      },
      "source": [
        "%load_ext tensorboard\r\n",
        "%tensorboard --logdir logs"
      ],
      "execution_count": null,
      "outputs": []
    },
    {
      "cell_type": "markdown",
      "metadata": {
        "id": "rPOJ_s2_fvXY"
      },
      "source": [
        "### Switching between tensorflow versions\r\n",
        "\r\n",
        "Colab is pre loaded tensorflow 2.x.\r\n",
        "\r\n",
        "If your code works with tensorflow 1.x then we can choose 1.x version using the below command"
      ]
    },
    {
      "cell_type": "code",
      "metadata": {
        "colab": {
          "base_uri": "https://localhost:8080/"
        },
        "id": "UVOHqPxAgGPt",
        "outputId": "c4df9f48-02de-4010-8bbb-ddfeb69e8273"
      },
      "source": [
        "%tensorflow_version 1.x"
      ],
      "execution_count": null,
      "outputs": [
        {
          "output_type": "stream",
          "text": [
            "TensorFlow 1.x selected.\n"
          ],
          "name": "stdout"
        }
      ]
    },
    {
      "cell_type": "markdown",
      "metadata": {
        "id": "F-xwg1NJblh3"
      },
      "source": [
        "### Playing Video inline"
      ]
    },
    {
      "cell_type": "code",
      "metadata": {
        "id": "Vm5ThJZsbzeN"
      },
      "source": [
        "from IPython.display import HTML\r\n",
        "from base64 import b64encode\r\n",
        "mp4 = open('/content/snake_bot.mp4','rb').read()\r\n",
        "data_url = \"data:video/mp4;base64,\" + b64encode(mp4).decode()\r\n",
        "HTML(\"\"\"\r\n",
        "<video width=400 controls>\r\n",
        "      <source src=\"%s\" type=\"video/mp4\">\r\n",
        "</video>\r\n",
        "\"\"\" % data_url)"
      ],
      "execution_count": null,
      "outputs": []
    },
    {
      "cell_type": "markdown",
      "metadata": {
        "id": "v0XBmBnigZXT"
      },
      "source": [
        "Thanks for going through the post\r\n",
        "\r\n",
        "If I have missed mentioning any commands please do let me know in the comments."
      ]
    }
  ]
}