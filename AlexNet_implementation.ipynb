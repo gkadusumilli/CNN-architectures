{
  "nbformat": 4,
  "nbformat_minor": 0,
  "metadata": {
    "colab": {
      "name": "AlexNet implementation",
      "provenance": [],
      "collapsed_sections": [],
      "authorship_tag": "ABX9TyPreavICEbpxzdMEd2S2sqf",
      "include_colab_link": true
    },
    "kernelspec": {
      "name": "python3",
      "display_name": "Python 3"
    },
    "accelerator": "GPU"
  },
  "cells": [
    {
      "cell_type": "markdown",
      "metadata": {
        "id": "view-in-github",
        "colab_type": "text"
      },
      "source": [
        "<a href=\"https://colab.research.google.com/github/gkadusumilli/CNN-architectures/blob/main/AlexNet_implementation.ipynb\" target=\"_parent\"><img src=\"https://colab.research.google.com/assets/colab-badge.svg\" alt=\"Open In Colab\"/></a>"
      ]
    },
    {
      "cell_type": "markdown",
      "metadata": {
        "id": "CI0-Fw7ZvC-9"
      },
      "source": [
        "#<center>CNN Architectures </center>\r\n",
        "\r\n",
        "\r\n",
        "#<center> Part 2: AlexNet implementation using keras<center>\r\n",
        "\r\n",
        "In this notebook we will build AlexNet model from the scratch using keras.\r\n",
        "\r\n",
        "Link to the AlexNet Paper: http://www.cs.toronto.edu/~kriz/imagenet_classification_with_deep_convolutional.pdf\r\n",
        "\r\n",
        "**AlexNet was proposed by Krizhevsky et al. in the year 2012.**\r\n",
        "\r\n",
        "The architecture contain five convolutional layers, max-pooling layers, three fully connected layers and finally a softmax function.\r\n"
      ]
    },
    {
      "cell_type": "markdown",
      "metadata": {
        "id": "fCrOfCVKxXX_"
      },
      "source": [
        "AlexNet architecture\r\n",
        "\r\n",
        "![AlexNet](https://drek4537l1klr.cloudfront.net/elgendy/v-3/Figures/05_06.png)\r\n",
        "\r\n",
        "\r\n",
        "AlexNet Architecture\r\n",
        "\r\n",
        "**Input Image --> Conv1 --> Pool2 --> Conv3 --> Pool4 --> Conv5 --> Conv6 --> Conv7 --> Pool8 --> FC9 --> FC10 --> Softmax7**"
      ]
    },
    {
      "cell_type": "markdown",
      "metadata": {
        "id": "dreUl5_HyenG"
      },
      "source": [
        "###Novel features of AlexNet\r\n",
        "\r\n",
        "**1. Introducing ReLU Activation function**\r\n",
        "> * ReLu was used in the hidden layers\r\n",
        "> * ReLu converges faster this is because the derivative of the sigmoid function becomes very small in the saturating region and hence the updates applied to the weights almost vanish. This phenomenon is called **Vanishing gradient problem**\r\n",
        "> * ReLu represented as $f(x) = max(0, x)$\r\n",
        "\r\n",
        "* To understand ***vanishing gradient problem***: A large change in the input of the sigmoid function causes a negligible change in the output\r\n",
        "\r\n",
        "**2. Dropout layer**\r\n",
        "> * Dropout layers are used to prevent the neural network from the overfitting.\r\n",
        "> * The neurons that are ***dropped out*** will not be used during forward and backward propagation.\r\n",
        "> * This means eac time an input is fed, the neural network samples a different architecture, but all these share same weights. This technique reduces complex co-adaptions of other neurons.\r\n",
        "> * Hence neuron is forced to learn more robust features that are useful in conjunction with many different random subsets of the other neurons.\r\n",
        "> * Authors have used dropout with the probability of 0.5 in the two fully connected layers.\r\n",
        "\r\n",
        "**3. Data augmentation**\r\n",
        "> * Data augmentation is a key technique to avoid the overfitting of the data\r\n",
        "> * Generated synthetic data using label-preserving transformations.\r\n",
        "> * Data augmentation technique involves ***Rotation***, ***flipping***, ***Translation***, ***scaling***, ***De-texturized***, ***De-coloring***, ***Edge enhanced***, ***Salient edge map***\r\n",
        "\r\n",
        "**4. Local response normalization**\r\n",
        "> * details please refer: https://prateekvjoshi.com/2016/04/05/what-is-local-response-normalization-in-convolutional-neural-networks/\r\n",
        "\r\n",
        "**5. Weight regularization**\r\n",
        "> * The authors have used a weight decay of 0.0005.\r\n",
        "\r\n",
        "> * Similar to the **L2 regularization**\r\n",
        "\r\n",
        ">> L2 regularization is that it penalizes the error function by adding a regularization term. This in turn reduces the weight values of the hidden units and makes them too small.\r\n",
        "\r\n",
        ">>Regularization procedure:\r\n",
        ">>>* First we update the error function by adding regularization term\r\n",
        "\r\n",
        ">>>>>Error function = $Error function_{old}$ + Regularization term\r\n",
        "\r\n",
        ">>>>>*Error function can be MSE or Cross-entropy*\r\n",
        "\r\n",
        ">>>* Regularization term\r\n",
        ">>>>> L2 regularization term = $\\frac{\\lambda}{2m}\\times \\sum \\left \\| w \\right \\|^2$\r\n",
        "\r\n",
        ">>>>> where lambda $lambda(\\lambda)$ is the regularization parameter, $m$ is the number of instances, and $w$ is the weight.\r\n",
        "\r\n",
        ">>>* Updated regularization term\r\n",
        ">>>>>Error function = $Error function_{old}$ + $\\frac{\\lambda}{2m}\\times \\sum \\left \\| w \\right \\|^2$\r\n",
        "\r\n",
        "**6. Training on Multiple GPU's**\r\n",
        "\r\n",
        ">* The authors have used GTX580 GPU with 3GB of memory but the memory and computation was not enough to train 1.2 million training examples in the dataset. Therefore team developed a complicated way to spread the network across two GPU's \r\n",
        "\r\n",
        "\r\n",
        "\r\n",
        "------------------------------------------------------------------------------------\r\n",
        "\r\n",
        "\r\n",
        "\r\n"
      ]
    },
    {
      "cell_type": "markdown",
      "metadata": {
        "id": "t5T9P6frGQqz"
      },
      "source": [
        "* **Number of filters in each convolutional layer**\r\n",
        "\r\n",
        ">>Depth (Number of filters)\r\n",
        "\r\n",
        ">>Conv 1 - 6\r\n",
        "\r\n",
        ">>Conv 3 - 16\r\n",
        "\r\n",
        ">>Conv 5 - 120 \r\n",
        "\r\n",
        "* **The authors have used different kernel_sizes 11 x 11, 5 x 5, and 3 x 3**\r\n",
        "\r\n",
        "* **Max-pooling layers**\r\n",
        "\r\n",
        ">>The **pool size is 3 x 3**, added in middle of the each convolutional layers.\r\n",
        "\r\n",
        ">>*The authors have used **max-pooling**, which computes the maximum value of its inputs.*\r\n",
        "\r\n",
        "* **Activation function**: The creators have used **ReLu** activation function for the hidden layers. Since ReLu has showed faster during training when used in between the hidden layers*\r\n",
        "\r\n",
        ">>$f(x) = max(0, x)$\r\n",
        "\r\n",
        "\r\n",
        "Summary of the layers stacked toghether are as follows\r\n",
        "\r\n",
        "* Conv1--> Kernel size = 11 x 11, depth = 96, and stride = 4\r\n",
        "\r\n",
        "* Conv2-->Kernel size = 5, depth = 256, and stride = 1\r\n",
        "\r\n",
        "* Pool-->3 x 3, which downsamples its input dimensions from 27 x 27 to 13 x 13\r\n",
        "\r\n",
        "* Conv3-->Kernel size = 3, depth = 384, and stride = 1\r\n",
        "\r\n",
        "* Conv4-->Kernel size = 3, depth = 384, and stride = 1\r\n",
        "\r\n",
        "* Conv5-->Kernel size = 3, depth = 256, and stride = 1\r\n",
        "\r\n",
        "* Pool-->Size = 3 x 3, downsamples its input from 13 x 13 to 6 x 6\r\n",
        "\r\n",
        "* Flatten layer-->Flattens the dimensions volume 6 x 6 x 256 to 1 x 9216 (i.e 6 x 6 x 256 = 9216)\r\n",
        "\r\n",
        "* FC with 4096 neurons\r\n",
        "\r\n",
        "* FC with 4096 neurons\r\n",
        "\r\n",
        "* Softmax layer with 1000 neurons\r\n",
        "\r\n",
        "\r\n",
        "\r\n",
        "\r\n",
        "\r\n"
      ]
    },
    {
      "cell_type": "markdown",
      "metadata": {
        "id": "c_bT0dwCQPFD"
      },
      "source": [
        "formula to calculate the layer dimensions\r\n",
        "\r\n",
        "$N_{out} = {\\frac{[n_{in} + 2p - k]}{s}} + 1$\r\n",
        "\r\n",
        "Example\r\n",
        "\r\n",
        "* **Conv layer 1**\r\n",
        "\r\n",
        "> * Input image size 227 x 227 x 3\r\n",
        "> * Kernel size 11 x 11\r\n",
        "> * Stride 4 (Shrinks input dimensions roughly by a factor of 4) \r\n",
        "> * Depth 96\r\n",
        "\r\n",
        "\r\n",
        ">>$Conv 1 = {\\frac{[227 + (2\\times 0) - 11]}{4}} + 1$ = $55$\r\n",
        "\r\n",
        "> * Depth is the number of filters in the conv layer is 96 hence the output dimensions are 55 x 55 x 96\r\n",
        "\r\n",
        "* Pooling - Max- pooling of (3, 3) result \r\n",
        "\r\n",
        ">>$Pool = {\\frac{[55 + (2 \\times 0) - 3]}{2}} + 1$ = $27$\r\n",
        ">>The pooling layer does not change the depth of the volume. The output dimensions are 27 x 27 x 96\r\n",
        "\r\n",
        "* **Conv layer 2**\r\n",
        "> * Kernel size 5 x 5\r\n",
        "\r\n",
        "> * Stride 1 \r\n",
        "\r\n",
        "> * Depth 256\r\n",
        "\r\n",
        "> > $Conv 2 = {\\frac{[27 + (2 \\times 2) - 5]}{1}} + 1$ = $27$\r\n",
        "\r\n",
        ">>> * Depth is the number of filters in the conv layer is 256 hence the output dimensions are 27 x 27 x 256\r\n",
        "\r\n",
        "* **Pooling** - Max- pooling of (3, 3) result \r\n",
        "\r\n",
        ">>$Pool = {\\frac{[27 + (2 \\times 0) - 3]}{2}} + 1$ = $13$\r\n",
        "\r\n",
        ">>Since the pooling layer does not change the depth of the volume. The output dimensions are 13 x 13 x 256\r\n",
        "\r\n",
        "* **Conv layer 3**\r\n",
        "\r\n",
        "> * Kernel size 3 x 3\r\n",
        "\r\n",
        "> * Stride 1 \r\n",
        "\r\n",
        "> * Depth 384\r\n",
        "\r\n",
        "> > $Conv 3 = {\\frac{[13 + (2 \\times 1) - 3]}{1}} + 1$ = $13$\r\n",
        "\r\n",
        ">>> * Depth is the number of filters in the conv layer is 384 hence the output dimensions are 13 x 13 x 384\r\n",
        "\r\n",
        "* **Conv layer 4**\r\n",
        "\r\n",
        "> * Kernel size 3 x 3\r\n",
        "\r\n",
        "> * Stride 1 \r\n",
        "\r\n",
        "> * Depth 384\r\n",
        "\r\n",
        "> > $Conv 4 = {\\frac{[13 + (2 \\times 1) - 3]}{1}} + 1$ = $13$\r\n",
        "\r\n",
        ">>> * Depth is the number of filters in the conv layer is 384 hence the output dimensions are 13 x 13 x 384\r\n",
        "\r\n",
        "* **Conv layer 5**\r\n",
        "\r\n",
        "> * Kernel size 3 x 3\r\n",
        "\r\n",
        "> * Stride 1 \r\n",
        "\r\n",
        "> * Depth 256\r\n",
        "\r\n",
        "> > $Conv 5 = {\\frac{[13 + (2 \\times 1) - 3]}{1}} + 1$ = $13$\r\n",
        "\r\n",
        ">>> * Depth is the number of filters in the conv layer is 384 hence the output dimensions are 13 x 13 x 256\r\n",
        "\r\n",
        "* **Pooling** - Max- pooling of (3, 3) result \r\n",
        "\r\n",
        ">>$Pool = {\\frac{[13 + (2 \\times 0) - 3]}{2}} + 1$ = $6$\r\n",
        "\r\n",
        ">>Since the pooling layer does not change the depth of the volume. The output dimensions are 6 x 6 x 256 \r\n",
        "\r\n",
        "* **Flatten layer** - Flattens the dimensions volume 6 x 6 x 256 to 1 x 9216\r\n",
        "\r\n",
        "* FC with 4096 neurons\r\n",
        "\r\n",
        "* FC with 4096 neurons\r\n",
        "\r\n",
        "* Softmax layer with 1000 neurons\r\n",
        "\r\n",
        "\r\n",
        "\r\n",
        "\r\n",
        "\r\n"
      ]
    },
    {
      "cell_type": "markdown",
      "metadata": {
        "id": "UkKOyneiYHlq"
      },
      "source": [
        "#Keras Implementation\r\n"
      ]
    },
    {
      "cell_type": "markdown",
      "metadata": {
        "id": "80VRer5mYSaf"
      },
      "source": [
        "####1. Import the dependencies"
      ]
    },
    {
      "cell_type": "code",
      "metadata": {
        "id": "yNj4DVaaYWWf"
      },
      "source": [
        "import keras\r\n",
        "from keras.datasets import cifar10\r\n",
        "from keras.preprocessing.image import ImageDataGenerator\r\n",
        "from keras.models import Sequential\r\n",
        "from keras.utils import np_utils\r\n",
        "from keras.layers import Dense, Activation, Flatten, Dropout, BatchNormalization,Conv2D,MaxPooling2D\r\n",
        "from keras.callbacks import ModelCheckpoint\r\n",
        "from keras import regularizers, optimizers\r\n",
        "from keras.regularizers import l2\r\n",
        "\r\n",
        "#Importing numpy for math operations\r\n",
        "import numpy as np\r\n",
        "# matplotlib to visualize the results\r\n",
        "import matplotlib.pyplot as plt\r\n",
        "%matplotlib inline\r\n"
      ],
      "execution_count": null,
      "outputs": []
    },
    {
      "cell_type": "markdown",
      "metadata": {
        "id": "GAn-fDaPdTi4"
      },
      "source": [
        "####2. Prepare the data\r\n",
        "\r\n",
        "Features of the CIFAR\r\n",
        "\r\n",
        "* 50,000 Images\r\n",
        "\r\n",
        "* 10 categories\r\n",
        "\r\n",
        "* Image dimensions: $32 \\times 32$ color image"
      ]
    },
    {
      "cell_type": "code",
      "metadata": {
        "id": "z3lQnlfjeVvT",
        "colab": {
          "base_uri": "https://localhost:8080/"
        },
        "outputId": "ee83bda3-0fd0-47b1-c8be-cbd8a1b74a53"
      },
      "source": [
        "#Download and split the data\r\n",
        "(x_train, y_train), (x_test, y_test) = cifar10.load_data()\r\n",
        "\r\n",
        "\r\n",
        "(x_train, x_valid) = x_train[5000:], x_train[:5000]\r\n",
        "(y_train, y_valid) = y_train[5000:], y_train[:5000]\r\n",
        "\r\n",
        "#print the shape of x_train, x_valid, and x_test\r\n",
        "\r\n",
        "print('x_train =', x_train.shape)\r\n",
        "print('x_valid =', x_train.shape)\r\n",
        "print('x_test =', x_train.shape)"
      ],
      "execution_count": null,
      "outputs": [
        {
          "output_type": "stream",
          "text": [
            "Downloading data from https://www.cs.toronto.edu/~kriz/cifar-10-python.tar.gz\n",
            "170500096/170498071 [==============================] - 11s 0us/step\n",
            "x_train = (45000, 32, 32, 3)\n",
            "x_valid = (45000, 32, 32, 3)\n",
            "x_test = (45000, 32, 32, 3)\n"
          ],
          "name": "stdout"
        }
      ]
    },
    {
      "cell_type": "markdown",
      "metadata": {
        "id": "wfJCAlBGgUdf"
      },
      "source": [
        "####3. Visualize the training images\r\n"
      ]
    },
    {
      "cell_type": "code",
      "metadata": {
        "id": "CpterNwjf0N-",
        "colab": {
          "base_uri": "https://localhost:8080/",
          "height": 169
        },
        "outputId": "14fedefe-5aa2-4c31-e617-1a92c4834db7"
      },
      "source": [
        "#plot few 8 training images\r\n",
        "x_train.shape, x_test.shape, x_train.shape[1:],x_train.dtype\r\n",
        "\r\n",
        "fig = plt.figure(figsize=(20,20))\r\n",
        "for i in range(8):\r\n",
        "  ax = fig.add_subplot(1, 8, i+1, xticks=[], yticks=[])\r\n",
        "  ax.imshow(x_train[i])\r\n",
        "  ax.set_title(str(y_train[i]))"
      ],
      "execution_count": null,
      "outputs": [
        {
          "output_type": "display_data",
          "data": {
            "image/png": "[encoded data removed]",
            "text/plain": [
              "<Figure size 1440x1440 with 8 Axes>"
            ]
          },
          "metadata": {
            "tags": []
          }
        }
      ]
    },
    {
      "cell_type": "markdown",
      "metadata": {
        "id": "CwNHAUDfj1iJ"
      },
      "source": [
        "####4. Normalize the data\r\n",
        "Normalizing the pixel values of the images by substracting the mean from each pixel and then using standard deviation\r\n"
      ]
    },
    {
      "cell_type": "code",
      "metadata": {
        "id": "pqF2TyyEjpeX"
      },
      "source": [
        "x_train = x_train.astype('float32')\r\n",
        "x_test = x_test.astype('float32')\r\n",
        "\r\n",
        "mean = np.mean(x_train)\r\n",
        "std = np.std(x_train)\r\n",
        "x_train = (x_train - mean)/(std+1e-7)\r\n",
        "x_test = (x_test-mean)/(std+1e-7)\r\n",
        "\r\n"
      ],
      "execution_count": null,
      "outputs": []
    },
    {
      "cell_type": "markdown",
      "metadata": {
        "id": "ktxIbNToldi_"
      },
      "source": [
        "####5. Preprocess the labels: Encode Categorical Integer Labels using One Hot Scheme"
      ]
    },
    {
      "cell_type": "code",
      "metadata": {
        "id": "A4MisycjlVzT"
      },
      "source": [
        "num_classes = 10\r\n",
        "y_train = np_utils.to_categorical(y_train,num_classes)\r\n",
        "y_test = np_utils.to_categorical(y_test,num_classes)\r\n",
        "y_valid = np_utils.to_categorical(y_valid,num_classes)\r\n",
        "\r\n",
        "#let's display one of the one-hot encoded labels\r\n"
      ],
      "execution_count": null,
      "outputs": []
    },
    {
      "cell_type": "markdown",
      "metadata": {
        "id": "3BRdDmTUopqr"
      },
      "source": [
        "####6. Model architecture\r\n",
        "\r\n",
        "![AlexNet](https://drek4537l1klr.cloudfront.net/elgendy/v-3/Figures/05_06.png)\r\n"
      ]
    },
    {
      "cell_type": "code",
      "metadata": {
        "id": "SEI9wJbfl1nZ",
        "colab": {
          "base_uri": "https://localhost:8080/"
        },
        "outputId": "6fe22e41-3eaa-4adf-fe9d-b1f2b4ca42f1"
      },
      "source": [
        "#build the model\r\n",
        "\r\n",
        "model = Sequential()\r\n",
        "\r\n",
        "#layer 1 (Conv + pool + batchnorm)\r\n",
        "model.add(Conv2D(filters=96, kernel_size = (11,11), strides=(4,4), padding='same', input_shape=x_train.shape[1:]))\r\n",
        "model.add(Activation('relu'))\r\n",
        "model.add(MaxPooling2D(pool_size=(3,3), strides=(2,2)))\r\n",
        "model.add(BatchNormalization())\r\n",
        "\r\n",
        "#layer 2 (Conv + pool + batchnorm)\r\n",
        "model.add(Conv2D(filters=256, kernel_size=(5,5), strides=(1,1),padding='same', kernel_regularizer=l2(0.0005)))\r\n",
        "model.add(Activation('relu'))\r\n",
        "model.add(MaxPooling2D(pool_size=(3,3),strides=(2,2),padding='same'))\r\n",
        "model.add(BatchNormalization())\r\n",
        "\r\n",
        "#layer 3 (Conv + batchnorm)\r\n",
        "#Authors did not add a pooling layer here\r\n",
        "\r\n",
        "model.add(Conv2D(filters=384,kernel_size=(3,3),strides=(1,1),padding='same',kernel_regularizer=l2(0.0005)))\r\n",
        "model.add(Activation('relu'))\r\n",
        "model.add(BatchNormalization())\r\n",
        "\r\n",
        "#layer 4 (Conv + batchnorm)\r\n",
        "model.add(Conv2D(filters=384, kernel_size=(3,3), strides=(1,1), padding='same',kernel_regularizer=l2(0.0005)))\r\n",
        "model.add(Activation('relu'))\r\n",
        "model.add(BatchNormalization())\r\n",
        "\r\n",
        "#layer 5 (Conv + batchnorm)\r\n",
        "model.add(Conv2D(filters=256, kernel_size=(3,3), strides=(1,1),padding='same',kernel_regularizer=l2(0.0005)))\r\n",
        "model.add(Activation('relu'))\r\n",
        "model.add(BatchNormalization())\r\n",
        "model.add(MaxPooling2D(pool_size=(3,3), strides=(2,2),padding='same'))\r\n",
        "#Flatten the CNN output to feed it fully connected layers\r\n",
        "model.add(Flatten())\r\n",
        "\r\n",
        "#layer 6 (Dense layer + dropout)\r\n",
        "model.add(Dense(units=4096, activation='relu'))\r\n",
        "model.add(Dropout(0.5))\r\n",
        "\r\n",
        "#layer 7 (Dense layers)\r\n",
        "model.add(Dense(units=4096, activation = 'relu'))\r\n",
        "model.add(Dropout(0.5))\r\n",
        "\r\n",
        "#layer 8 (softmax output layer)\r\n",
        "model.add(Dense(num_classes, activation='softmax'))\r\n",
        "model.summary()"
      ],
      "execution_count": null,
      "outputs": [
        {
          "output_type": "stream",
          "text": [
            "Model: \"sequential_14\"\n",
            "_________________________________________________________________\n",
            "Layer (type)                 Output Shape              Param #   \n",
            "=================================================================\n",
            "conv2d_36 (Conv2D)           (None, 8, 8, 96)          34944     \n",
            "_________________________________________________________________\n",
            "activation_36 (Activation)   (None, 8, 8, 96)          0         \n",
            "_________________________________________________________________\n",
            "max_pooling2d_26 (MaxPooling (None, 3, 3, 96)          0         \n",
            "_________________________________________________________________\n",
            "batch_normalization_25 (Batc (None, 3, 3, 96)          384       \n",
            "_________________________________________________________________\n",
            "conv2d_37 (Conv2D)           (None, 3, 3, 256)         614656    \n",
            "_________________________________________________________________\n",
            "activation_37 (Activation)   (None, 3, 3, 256)         0         \n",
            "_________________________________________________________________\n",
            "max_pooling2d_27 (MaxPooling (None, 2, 2, 256)         0         \n",
            "_________________________________________________________________\n",
            "batch_normalization_26 (Batc (None, 2, 2, 256)         1024      \n",
            "_________________________________________________________________\n",
            "conv2d_38 (Conv2D)           (None, 2, 2, 384)         885120    \n",
            "_________________________________________________________________\n",
            "activation_38 (Activation)   (None, 2, 2, 384)         0         \n",
            "_________________________________________________________________\n",
            "batch_normalization_27 (Batc (None, 2, 2, 384)         1536      \n",
            "_________________________________________________________________\n",
            "conv2d_39 (Conv2D)           (None, 2, 2, 384)         1327488   \n",
            "_________________________________________________________________\n",
            "activation_39 (Activation)   (None, 2, 2, 384)         0         \n",
            "_________________________________________________________________\n",
            "batch_normalization_28 (Batc (None, 2, 2, 384)         1536      \n",
            "_________________________________________________________________\n",
            "conv2d_40 (Conv2D)           (None, 2, 2, 256)         884992    \n",
            "_________________________________________________________________\n",
            "activation_40 (Activation)   (None, 2, 2, 256)         0         \n",
            "_________________________________________________________________\n",
            "batch_normalization_29 (Batc (None, 2, 2, 256)         1024      \n",
            "_________________________________________________________________\n",
            "max_pooling2d_28 (MaxPooling (None, 1, 1, 256)         0         \n",
            "_________________________________________________________________\n",
            "flatten_2 (Flatten)          (None, 256)               0         \n",
            "_________________________________________________________________\n",
            "dense_4 (Dense)              (None, 4096)              1052672   \n",
            "_________________________________________________________________\n",
            "dropout_2 (Dropout)          (None, 4096)              0         \n",
            "_________________________________________________________________\n",
            "dense_5 (Dense)              (None, 4096)              16781312  \n",
            "_________________________________________________________________\n",
            "dropout_3 (Dropout)          (None, 4096)              0         \n",
            "_________________________________________________________________\n",
            "dense_6 (Dense)              (None, 10)                40970     \n",
            "=================================================================\n",
            "Total params: 21,627,658\n",
            "Trainable params: 21,624,906\n",
            "Non-trainable params: 2,752\n",
            "_________________________________________________________________\n"
          ],
          "name": "stdout"
        }
      ]
    },
    {
      "cell_type": "markdown",
      "metadata": {
        "id": "tx9nClgPEhLe"
      },
      "source": [
        "From the model summary\r\n",
        "The CIFAR-10 input image dimensions is shrunk 4 times due to the use of ***Stride = 4***"
      ]
    },
    {
      "cell_type": "markdown",
      "metadata": {
        "id": "7vpb6K1NxpHF"
      },
      "source": [
        "####7.Data augmentation"
      ]
    },
    {
      "cell_type": "code",
      "metadata": {
        "id": "l-awWcYbxmqs"
      },
      "source": [
        "#Data augmentation\r\n",
        "datagen = ImageDataGenerator(\r\n",
        "    featurewise_center=False,\r\n",
        "    samplewise_center = False,\r\n",
        "    featurewise_std_normalization = False,\r\n",
        "    samplewise_std_normalization = False,\r\n",
        "    zca_whitening = False,\r\n",
        "    rotation_range = 15,\r\n",
        "    width_shift_range=0.1,\r\n",
        "    height_shift_range = 0.1,\r\n",
        "    horizontal_flip = True,\r\n",
        "    vertical_flip = False\r\n",
        ")\r\n",
        "\r\n",
        "#ompute the data augmentaton on the training set\r\n",
        "datagen.fit(x_train)"
      ],
      "execution_count": null,
      "outputs": []
    },
    {
      "cell_type": "markdown",
      "metadata": {
        "id": "qmmZGcioy6Ev"
      },
      "source": [
        "####8. Compiling and training"
      ]
    },
    {
      "cell_type": "code",
      "metadata": {
        "id": "flItB2Oyy-P3"
      },
      "source": [
        "from keras.callbacks import ModelCheckpoint\r\n",
        "\r\n",
        "\r\n",
        "#reduces the learning rate by 0.1 when the validation error plateaus\r\n",
        "checkpointer = ModelCheckpoint(filepath = 'model.125epochs.hdf5', verbose=1, save_best_only=True)\r\n",
        "#sets the SGD optimizer with lr of 0.01 and momentum of 0.9\r\n",
        "optimizer = keras.optimizers.SGD(lr=0.01, momentum = 0.9)\r\n",
        "model.compile(loss='categorical_crossentropy', optimizer=optimizer, metrics=['accuracy'])\r\n",
        "\r\n",
        "\r\n",
        "history = model.fit_generator(datagen.flow(x_train, y_train, batch_size = 128),\r\n",
        "                              callbacks=[checkpointer], steps_per_epoch = x_train.shape[0] // 128, epochs=90, verbose=2, validation_data=(x_valid, y_valid))\r\n"
      ],
      "execution_count": null,
      "outputs": []
    },
    {
      "cell_type": "markdown",
      "metadata": {
        "id": "NY_iNKAx1gkO"
      },
      "source": [
        "####9. Evaluate the model\r\n",
        "\r\n",
        "To evaluate the model, we use a Keras function called *evaluate* and print the results"
      ]
    },
    {
      "cell_type": "code",
      "metadata": {
        "id": "F7O17Ecj1sF7",
        "colab": {
          "base_uri": "https://localhost:8080/"
        },
        "outputId": "0c55ffa1-5cee-4235-96aa-546dc2b11442"
      },
      "source": [
        "scores = model.evaluate(x_test,y_test,batch_size=128,verbose=1)\r\n",
        "\r\n",
        "print('\\n Test result: %.3f loss: %.3f' % (scores[1]*100, scores[0]))\r\n"
      ],
      "execution_count": null,
      "outputs": [
        {
          "output_type": "stream",
          "text": [
            "79/79 [==============================] - 1s 16ms/step - loss: 1.3637 - accuracy: 0.7314\n",
            "\n",
            " Test result: 73.140 loss: 1.364\n"
          ],
          "name": "stdout"
        }
      ]
    },
    {
      "cell_type": "markdown",
      "metadata": {
        "id": "tHXodt972Ewh"
      },
      "source": [
        "####10. Evaluate the model"
      ]
    },
    {
      "cell_type": "code",
      "metadata": {
        "id": "Qh2WnS2H2IXM",
        "colab": {
          "base_uri": "https://localhost:8080/",
          "height": 265
        },
        "outputId": "4d693ff8-4ed9-4278-b9be-e8a269c2026a"
      },
      "source": [
        "plt.plot(history.history['accuracy'], label='train')\r\n",
        "plt.plot(history.history['val_accuracy'], label='test')\r\n",
        "plt.legend()\r\n",
        "plt.show()"
      ],
      "execution_count": null,
      "outputs": [
        {
          "output_type": "display_data",
          "data": {
            "image/png": "[encoded data removed]",
            "text/plain": [
              "<Figure size 432x288 with 1 Axes>"
            ]
          },
          "metadata": {
            "tags": [],
            "needs_background": "light"
          }
        }
      ]
    },
    {
      "cell_type": "markdown",
      "metadata": {
        "id": "NNiMWascI6kh"
      },
      "source": [
        "Seems, The validation accuracy is too low"
      ]
    },
    {
      "cell_type": "code",
      "metadata": {
        "id": "2Lr1WqUkIiwk"
      },
      "source": [
        "#Defining function for confusion matrix plot\r\n",
        "def plot_confusion_matrix(y_true, y_pred, classes,\r\n",
        "                          normalize=False,\r\n",
        "                          title=\"Confusion matrix\",\r\n",
        "                          cmap=plt.cm.Blues):\r\n",
        "\r\n",
        "\r\n",
        "    # Compute confusion matrix\r\n",
        "    cm = confusion_matrix(y_true, y_pred)\r\n",
        "    if normalize:\r\n",
        "        cm = cm.astype('float') / cm.sum(axis=1)[:, np.newaxis]\r\n",
        "        print(\"confusion matrix\")\r\n",
        "\r\n",
        "\r\n",
        "#Print Confusion matrix\r\n",
        "    fig, ax = plt.subplots(figsize=(7,7))\r\n",
        "    im = ax.imshow(cm, interpolation='nearest', cmap=cmap)\r\n",
        "    ax.figure.colorbar(im, ax=ax)\r\n",
        "    # We want to show all ticks...\r\n",
        "    ax.set(xticks=np.arange(cm.shape[1]),\r\n",
        "           yticks=np.arange(cm.shape[0]),\r\n",
        "           xticklabels=classes, yticklabels=classes,\r\n",
        "           title=title,\r\n",
        "           ylabel='True label',\r\n",
        "           xlabel='Predicted label')\r\n",
        "\r\n",
        "    # Rotate the tick labels and set their alignment.\r\n",
        "    plt.setp(ax.get_xticklabels(), rotation=45, ha=\"right\",\r\n",
        "             rotation_mode=\"anchor\")\r\n",
        "    # Loop over data dimensions and create text annotations.\r\n",
        "    fmt = '.2f' if normalize else 'd'\r\n",
        "    thresh = cm.max() / 2.\r\n",
        "    for i in range(cm.shape[0]):\r\n",
        "        for j in range(cm.shape[1]):\r\n",
        "            ax.text(j, i, format(cm[i, j], fmt),\r\n",
        "                    ha=\"center\", va=\"center\",\r\n",
        "                    color=\"white\" if cm[i, j] > thresh else \"black\")\r\n",
        "    fig.tight_layout()\r\n",
        "    return ax\r\n",
        "\r\n",
        "np.set_printoptions(precision=2)"
      ],
      "execution_count": null,
      "outputs": []
    },
    {
      "cell_type": "code",
      "metadata": {
        "id": "BEDWBNaBKCbD",
        "colab": {
          "base_uri": "https://localhost:8080/",
          "height": 558
        },
        "outputId": "28cab505-ff69-4334-9b12-e147bb46157f"
      },
      "source": [
        "#Making prediction\r\n",
        "y_pred=model.predict_classes(x_test)\r\n",
        "y_true=np.argmax(y_test,axis=1)\r\n",
        "\r\n",
        "#Plotting the confusion matrix\r\n",
        "from sklearn.metrics import confusion_matrix\r\n",
        "confusion_mtx=confusion_matrix(y_true,y_pred)\r\n",
        "\r\n",
        "class_names=['airplane', 'automobile', 'bird', 'cat', 'deer', 'dog', 'frog', 'horse', 'ship', 'truck']\r\n",
        "\r\n",
        "# Plotting non-normalized confusion matrix\r\n",
        "plot_confusion_matrix(y_true, y_pred, classes = class_names,title = 'Confusion matrix, without normalization')"
      ],
      "execution_count": null,
      "outputs": [
        {
          "output_type": "stream",
          "text": [
            "/usr/local/lib/python3.6/dist-packages/tensorflow/python/keras/engine/sequential.py:450: UserWarning: `model.predict_classes()` is deprecated and will be removed after 2021-01-01. Please use instead:* `np.argmax(model.predict(x), axis=-1)`,   if your model does multi-class classification   (e.g. if it uses a `softmax` last-layer activation).* `(model.predict(x) > 0.5).astype(\"int32\")`,   if your model does binary classification   (e.g. if it uses a `sigmoid` last-layer activation).\n",
            "  warnings.warn('`model.predict_classes()` is deprecated and '\n"
          ],
          "name": "stderr"
        },
        {
          "output_type": "execute_result",
          "data": {
            "text/plain": [
              "<matplotlib.axes._subplots.AxesSubplot at 0x7f51cad0d208>"
            ]
          },
          "metadata": {
            "tags": []
          },
          "execution_count": 42
        },
        {
          "output_type": "display_data",
          "data": {
            "image/png": "[encoded data removed]",
            "text/plain": [
              "<Figure size 504x504 with 2 Axes>"
            ]
          },
          "metadata": {
            "tags": [],
            "needs_background": "light"
          }
        }
      ]
    },
    {
      "cell_type": "markdown",
      "metadata": {
        "id": "ShqGykXXM7Gn"
      },
      "source": [
        "References:\r\n",
        "1. http://www.cs.toronto.edu/~kriz/imagenet_classification_with_deep_convolutional.pdf\r\n",
        "2. http://cvml.ist.ac.at/courses/DLWT_W17/material/AlexNet.pdf\r\n",
        "3. Deeplearning for vision\r\n",
        "4. https://www.kaggle.com/c/cifar-10"
      ]
    },
    {
      "cell_type": "code",
      "metadata": {
        "id": "z5a-h1GBKJFi"
      },
      "source": [
        ""
      ],
      "execution_count": null,
      "outputs": []
    }
  ]
}
