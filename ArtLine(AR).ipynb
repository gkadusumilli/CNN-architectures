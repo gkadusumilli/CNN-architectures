{
  "nbformat": 4,
  "nbformat_minor": 0,
  "metadata": {
    "accelerator": "GPU",
    "colab": {
      "name": "ArtLine(AR).ipynb",
      "provenance": [],
      "collapsed_sections": [],
      "toc_visible": true,
      "include_colab_link": true
    },
    "kernelspec": {
      "display_name": "Python 3",
      "name": "python3"
    }
  },
  "cells": [
    {
      "cell_type": "markdown",
      "metadata": {
        "id": "view-in-github",
        "colab_type": "text"
      },
      "source": [
        "<a href=\"https://colab.research.google.com/github/gkadusumilli/CNN-architectures/blob/main/ArtLine(AR).ipynb\" target=\"_parent\"><img src=\"https://colab.research.google.com/assets/colab-badge.svg\" alt=\"Open In Colab\"/></a>"
      ]
    },
    {
      "cell_type": "markdown",
      "metadata": {
        "id": "Hq3gvFEqmLvG"
      },
      "source": [
        "# **ArtLine**\r\n",
        "**Create** **Amazing** **Line** **Art**."
      ]
    },
    {
      "cell_type": "code",
      "metadata": {
        "colab": {
          "base_uri": "https://localhost:8080/"
        },
        "id": "IPyB9hb8mPC8",
        "outputId": "112b2079-a786-4240-89f1-e78ae5f58fa5"
      },
      "source": [
        "!git clone https://github.com/vijishmadhavan/ArtLine.git ArtLine"
      ],
      "execution_count": 1,
      "outputs": [
        {
          "output_type": "stream",
          "text": [
            "fatal: destination path 'ArtLine' already exists and is not an empty directory.\n"
          ],
          "name": "stdout"
        }
      ]
    },
    {
      "cell_type": "code",
      "metadata": {
        "colab": {
          "base_uri": "https://localhost:8080/"
        },
        "id": "4hmPeTa0mRhA",
        "outputId": "cbbbbdd8-ed4a-4ee7-ec74-4d61255d6156"
      },
      "source": [
        "cd ArtLine"
      ],
      "execution_count": 2,
      "outputs": [
        {
          "output_type": "stream",
          "text": [
            "/content/ArtLine\n"
          ],
          "name": "stdout"
        }
      ]
    },
    {
      "cell_type": "code",
      "metadata": {
        "colab": {
          "base_uri": "https://localhost:8080/",
          "height": 1000
        },
        "id": "HVHkL8wQmURk",
        "outputId": "f00d5ebe-8bf1-4810-ae87-808b198672fd"
      },
      "source": [
        "!pip install -r colab_requirements.txt"
      ],
      "execution_count": 3,
      "outputs": [
        {
          "output_type": "stream",
          "text": [
            "Requirement already satisfied: fastai==1.0.61 in /usr/local/lib/python3.6/dist-packages (from -r colab_requirements.txt (line 1)) (1.0.61)\n",
            "Collecting numpy==1.17.2\n",
            "\u001b[?25l  Downloading https://files.pythonhosted.org/packages/e5/e6/c3fdc53aed9fa19d6ff3abf97dfad768ae3afce1b7431f7500000816bda5/numpy-1.17.2-cp36-cp36m-manylinux1_x86_64.whl (20.4MB)\n",
            "\u001b[K     |████████████████████████████████| 20.4MB 57.6MB/s \n",
            "\u001b[?25hCollecting pandas==1.1.2\n",
            "\u001b[?25l  Downloading https://files.pythonhosted.org/packages/1c/11/e1f53db0614f2721027aab297c8afd2eaf58d33d566441a97ea454541c5e/pandas-1.1.2-cp36-cp36m-manylinux1_x86_64.whl (10.5MB)\n",
            "\u001b[K     |████████████████████████████████| 10.5MB 55.0MB/s \n",
            "\u001b[?25hCollecting torch==1.6.0\n",
            "\u001b[?25l  Downloading https://files.pythonhosted.org/packages/38/53/914885a93a44b96c0dd1c36f36ff10afe341f091230aad68f7228d61db1e/torch-1.6.0-cp36-cp36m-manylinux1_x86_64.whl (748.8MB)\n",
            "\u001b[K     |████████████████████████████████| 748.8MB 24kB/s \n",
            "\u001b[?25hCollecting torchvision===0.7.0\n",
            "\u001b[?25l  Downloading https://files.pythonhosted.org/packages/8e/dc/4a939cfbd38398f4765f712576df21425241020bfccc200af76d19088533/torchvision-0.7.0-cp36-cp36m-manylinux1_x86_64.whl (5.9MB)\n",
            "\u001b[K     |████████████████████████████████| 5.9MB 54.9MB/s \n",
            "\u001b[?25hRequirement already satisfied: nvidia-ml-py3 in /usr/local/lib/python3.6/dist-packages (from fastai==1.0.61->-r colab_requirements.txt (line 1)) (7.352.0)\n",
            "Requirement already satisfied: beautifulsoup4 in /usr/local/lib/python3.6/dist-packages (from fastai==1.0.61->-r colab_requirements.txt (line 1)) (4.6.3)\n",
            "Requirement already satisfied: bottleneck in /usr/local/lib/python3.6/dist-packages (from fastai==1.0.61->-r colab_requirements.txt (line 1)) (1.3.2)\n",
            "Requirement already satisfied: numexpr in /usr/local/lib/python3.6/dist-packages (from fastai==1.0.61->-r colab_requirements.txt (line 1)) (2.7.2)\n",
            "Requirement already satisfied: matplotlib in /usr/local/lib/python3.6/dist-packages (from fastai==1.0.61->-r colab_requirements.txt (line 1)) (3.2.2)\n",
            "Requirement already satisfied: scipy in /usr/local/lib/python3.6/dist-packages (from fastai==1.0.61->-r colab_requirements.txt (line 1)) (1.4.1)\n",
            "Requirement already satisfied: packaging in /usr/local/lib/python3.6/dist-packages (from fastai==1.0.61->-r colab_requirements.txt (line 1)) (20.8)\n",
            "Requirement already satisfied: requests in /usr/local/lib/python3.6/dist-packages (from fastai==1.0.61->-r colab_requirements.txt (line 1)) (2.23.0)\n",
            "Requirement already satisfied: dataclasses; python_version < \"3.7\" in /usr/local/lib/python3.6/dist-packages (from fastai==1.0.61->-r colab_requirements.txt (line 1)) (0.8)\n",
            "Requirement already satisfied: spacy>=2.0.18; python_version < \"3.8\" in /usr/local/lib/python3.6/dist-packages (from fastai==1.0.61->-r colab_requirements.txt (line 1)) (2.2.4)\n",
            "Requirement already satisfied: pyyaml in /usr/local/lib/python3.6/dist-packages (from fastai==1.0.61->-r colab_requirements.txt (line 1)) (3.13)\n",
            "Requirement already satisfied: Pillow in /usr/local/lib/python3.6/dist-packages (from fastai==1.0.61->-r colab_requirements.txt (line 1)) (7.0.0)\n",
            "Requirement already satisfied: fastprogress>=0.2.1 in /usr/local/lib/python3.6/dist-packages (from fastai==1.0.61->-r colab_requirements.txt (line 1)) (1.0.0)\n",
            "Requirement already satisfied: pytz>=2017.2 in /usr/local/lib/python3.6/dist-packages (from pandas==1.1.2->-r colab_requirements.txt (line 3)) (2018.9)\n",
            "Requirement already satisfied: python-dateutil>=2.7.3 in /usr/local/lib/python3.6/dist-packages (from pandas==1.1.2->-r colab_requirements.txt (line 3)) (2.8.1)\n",
            "Requirement already satisfied: future in /usr/local/lib/python3.6/dist-packages (from torch==1.6.0->-r colab_requirements.txt (line 4)) (0.16.0)\n",
            "Requirement already satisfied: kiwisolver>=1.0.1 in /usr/local/lib/python3.6/dist-packages (from matplotlib->fastai==1.0.61->-r colab_requirements.txt (line 1)) (1.3.1)\n",
            "Requirement already satisfied: cycler>=0.10 in /usr/local/lib/python3.6/dist-packages (from matplotlib->fastai==1.0.61->-r colab_requirements.txt (line 1)) (0.10.0)\n",
            "Requirement already satisfied: pyparsing!=2.0.4,!=2.1.2,!=2.1.6,>=2.0.1 in /usr/local/lib/python3.6/dist-packages (from matplotlib->fastai==1.0.61->-r colab_requirements.txt (line 1)) (2.4.7)\n",
            "Requirement already satisfied: chardet<4,>=3.0.2 in /usr/local/lib/python3.6/dist-packages (from requests->fastai==1.0.61->-r colab_requirements.txt (line 1)) (3.0.4)\n",
            "Requirement already satisfied: urllib3!=1.25.0,!=1.25.1,<1.26,>=1.21.1 in /usr/local/lib/python3.6/dist-packages (from requests->fastai==1.0.61->-r colab_requirements.txt (line 1)) (1.24.3)\n",
            "Requirement already satisfied: certifi>=2017.4.17 in /usr/local/lib/python3.6/dist-packages (from requests->fastai==1.0.61->-r colab_requirements.txt (line 1)) (2020.12.5)\n",
            "Requirement already satisfied: idna<3,>=2.5 in /usr/local/lib/python3.6/dist-packages (from requests->fastai==1.0.61->-r colab_requirements.txt (line 1)) (2.10)\n",
            "Requirement already satisfied: blis<0.5.0,>=0.4.0 in /usr/local/lib/python3.6/dist-packages (from spacy>=2.0.18; python_version < \"3.8\"->fastai==1.0.61->-r colab_requirements.txt (line 1)) (0.4.1)\n",
            "Requirement already satisfied: thinc==7.4.0 in /usr/local/lib/python3.6/dist-packages (from spacy>=2.0.18; python_version < \"3.8\"->fastai==1.0.61->-r colab_requirements.txt (line 1)) (7.4.0)\n",
            "Requirement already satisfied: preshed<3.1.0,>=3.0.2 in /usr/local/lib/python3.6/dist-packages (from spacy>=2.0.18; python_version < \"3.8\"->fastai==1.0.61->-r colab_requirements.txt (line 1)) (3.0.5)\n",
            "Requirement already satisfied: setuptools in /usr/local/lib/python3.6/dist-packages (from spacy>=2.0.18; python_version < \"3.8\"->fastai==1.0.61->-r colab_requirements.txt (line 1)) (51.3.3)\n",
            "Requirement already satisfied: wasabi<1.1.0,>=0.4.0 in /usr/local/lib/python3.6/dist-packages (from spacy>=2.0.18; python_version < \"3.8\"->fastai==1.0.61->-r colab_requirements.txt (line 1)) (0.8.0)\n",
            "Requirement already satisfied: plac<1.2.0,>=0.9.6 in /usr/local/lib/python3.6/dist-packages (from spacy>=2.0.18; python_version < \"3.8\"->fastai==1.0.61->-r colab_requirements.txt (line 1)) (1.1.3)\n",
            "Requirement already satisfied: catalogue<1.1.0,>=0.0.7 in /usr/local/lib/python3.6/dist-packages (from spacy>=2.0.18; python_version < \"3.8\"->fastai==1.0.61->-r colab_requirements.txt (line 1)) (1.0.0)\n",
            "Requirement already satisfied: tqdm<5.0.0,>=4.38.0 in /usr/local/lib/python3.6/dist-packages (from spacy>=2.0.18; python_version < \"3.8\"->fastai==1.0.61->-r colab_requirements.txt (line 1)) (4.41.1)\n",
            "Requirement already satisfied: cymem<2.1.0,>=2.0.2 in /usr/local/lib/python3.6/dist-packages (from spacy>=2.0.18; python_version < \"3.8\"->fastai==1.0.61->-r colab_requirements.txt (line 1)) (2.0.5)\n",
            "Requirement already satisfied: srsly<1.1.0,>=1.0.2 in /usr/local/lib/python3.6/dist-packages (from spacy>=2.0.18; python_version < \"3.8\"->fastai==1.0.61->-r colab_requirements.txt (line 1)) (1.0.5)\n",
            "Requirement already satisfied: murmurhash<1.1.0,>=0.28.0 in /usr/local/lib/python3.6/dist-packages (from spacy>=2.0.18; python_version < \"3.8\"->fastai==1.0.61->-r colab_requirements.txt (line 1)) (1.0.5)\n",
            "Requirement already satisfied: six>=1.5 in /usr/local/lib/python3.6/dist-packages (from python-dateutil>=2.7.3->pandas==1.1.2->-r colab_requirements.txt (line 3)) (1.15.0)\n",
            "Requirement already satisfied: importlib-metadata>=0.20; python_version < \"3.8\" in /usr/local/lib/python3.6/dist-packages (from catalogue<1.1.0,>=0.0.7->spacy>=2.0.18; python_version < \"3.8\"->fastai==1.0.61->-r colab_requirements.txt (line 1)) (3.3.0)\n",
            "Requirement already satisfied: zipp>=0.5 in /usr/local/lib/python3.6/dist-packages (from importlib-metadata>=0.20; python_version < \"3.8\"->catalogue<1.1.0,>=0.0.7->spacy>=2.0.18; python_version < \"3.8\"->fastai==1.0.61->-r colab_requirements.txt (line 1)) (3.4.0)\n",
            "Requirement already satisfied: typing-extensions>=3.6.4; python_version < \"3.8\" in /usr/local/lib/python3.6/dist-packages (from importlib-metadata>=0.20; python_version < \"3.8\"->catalogue<1.1.0,>=0.0.7->spacy>=2.0.18; python_version < \"3.8\"->fastai==1.0.61->-r colab_requirements.txt (line 1)) (3.7.4.3)\n",
            "\u001b[31mERROR: tensorflow 2.4.0 has requirement numpy~=1.19.2, but you'll have numpy 1.17.2 which is incompatible.\u001b[0m\n",
            "\u001b[31mERROR: datascience 0.10.6 has requirement folium==0.2.1, but you'll have folium 0.8.3 which is incompatible.\u001b[0m\n",
            "\u001b[31mERROR: albumentations 0.1.12 has requirement imgaug<0.2.7,>=0.2.5, but you'll have imgaug 0.2.9 which is incompatible.\u001b[0m\n",
            "Installing collected packages: numpy, pandas, torch, torchvision\n",
            "  Found existing installation: numpy 1.19.5\n",
            "    Uninstalling numpy-1.19.5:\n",
            "      Successfully uninstalled numpy-1.19.5\n",
            "  Found existing installation: pandas 1.1.5\n",
            "    Uninstalling pandas-1.1.5:\n",
            "      Successfully uninstalled pandas-1.1.5\n",
            "  Found existing installation: torch 1.7.0+cu101\n",
            "    Uninstalling torch-1.7.0+cu101:\n",
            "      Successfully uninstalled torch-1.7.0+cu101\n",
            "  Found existing installation: torchvision 0.8.1+cu101\n",
            "    Uninstalling torchvision-0.8.1+cu101:\n",
            "      Successfully uninstalled torchvision-0.8.1+cu101\n",
            "Successfully installed numpy-1.17.2 pandas-1.1.2 torch-1.6.0 torchvision-0.7.0\n"
          ],
          "name": "stdout"
        },
        {
          "output_type": "display_data",
          "data": {
            "application/vnd.colab-display-data+json": {
              "pip_warning": {
                "packages": [
                  "numpy",
                  "pandas"
                ]
              }
            }
          },
          "metadata": {
            "tags": []
          }
        }
      ]
    },
    {
      "cell_type": "markdown",
      "metadata": {
        "id": "mC7faka5mXdz"
      },
      "source": [
        "# **Runtime**\r\n",
        "\r\n",
        "* Hardware Accelerator = GPU "
      ]
    },
    {
      "cell_type": "markdown",
      "metadata": {
        "id": "p0BNS9fHA8w_"
      },
      "source": [
        "###Artline- Quality"
      ]
    },
    {
      "cell_type": "code",
      "metadata": {
        "id": "lY9UYezmmX77"
      },
      "source": [
        "import fastai\r\n",
        "from fastai.vision import *\r\n",
        "from fastai.utils.mem import *\r\n",
        "from fastai.vision import open_image, load_learner, image, torch\r\n",
        "import numpy as np\r\n",
        "import urllib.request\r\n",
        "import PIL.Image\r\n",
        "from io import BytesIO\r\n",
        "import torchvision.transforms as T\r\n",
        "from PIL import Image\r\n",
        "import requests\r\n",
        "from io import BytesIO\r\n",
        "import fastai\r\n",
        "from fastai.vision import *\r\n",
        "from fastai.utils.mem import *\r\n",
        "from fastai.vision import open_image, load_learner, image, torch\r\n",
        "import numpy as np\r\n",
        "import urllib.request\r\n",
        "import PIL.Image\r\n",
        "from PIL import Image\r\n",
        "from io import BytesIO\r\n",
        "import torchvision.transforms as T\r\n",
        "\r\n",
        "class FeatureLoss(nn.Module):\r\n",
        "    def __init__(self, m_feat, layer_ids, layer_wgts):\r\n",
        "        super().__init__()\r\n",
        "        self.m_feat = m_feat\r\n",
        "        self.loss_features = [self.m_feat[i] for i in layer_ids]\r\n",
        "        self.hooks = hook_outputs(self.loss_features, detach=False)\r\n",
        "        self.wgts = layer_wgts\r\n",
        "        self.metric_names = ['pixel',] + [f'feat_{i}' for i in range(len(layer_ids))\r\n",
        "              ] + [f'gram_{i}' for i in range(len(layer_ids))]\r\n",
        "\r\n",
        "    def make_features(self, x, clone=False):\r\n",
        "        self.m_feat(x)\r\n",
        "        return [(o.clone() if clone else o) for o in self.hooks.stored]\r\n",
        "    \r\n",
        "    def forward(self, input, target):\r\n",
        "        out_feat = self.make_features(target, clone=True)\r\n",
        "        in_feat = self.make_features(input)\r\n",
        "        self.feat_losses = [base_loss(input,target)]\r\n",
        "        self.feat_losses += [base_loss(f_in, f_out)*w\r\n",
        "                             for f_in, f_out, w in zip(in_feat, out_feat, self.wgts)]\r\n",
        "        self.feat_losses += [base_loss(gram_matrix(f_in), gram_matrix(f_out))*w**2 * 5e3\r\n",
        "                             for f_in, f_out, w in zip(in_feat, out_feat, self.wgts)]\r\n",
        "        self.metrics = dict(zip(self.metric_names, self.feat_losses))\r\n",
        "        return sum(self.feat_losses)\r\n",
        "    \r\n",
        "    def __del__(self): self.hooks.remove()\r\n",
        "\r\n",
        "def add_margin(pil_img, top, right, bottom, left, color):\r\n",
        "    width, height = pil_img.size\r\n",
        "    new_width = width + right + left\r\n",
        "    new_height = height + top + bottom\r\n",
        "    result = Image.new(pil_img.mode, (new_width, new_height), color)\r\n",
        "    result.paste(pil_img, (left, top))\r\n",
        "    return result"
      ],
      "execution_count": 40,
      "outputs": []
    },
    {
      "cell_type": "code",
      "metadata": {
        "id": "zAYxpVUTmeSZ"
      },
      "source": [
        "MODEL_URL = \"https://www.dropbox.com/s/04suaimdpru76h3/ArtLine_920.pkl?dl=1 \"\r\n",
        "urllib.request.urlretrieve(MODEL_URL, \"ArtLine_920.pkl\")\r\n",
        "path = Path(\".\")\r\n",
        "learn=load_learner(path, 'ArtLine_920.pkl')"
      ],
      "execution_count": 41,
      "outputs": []
    },
    {
      "cell_type": "markdown",
      "metadata": {
        "id": "th-Mci1mBAd9"
      },
      "source": [
        "###Artline- Smooth\r\n"
      ]
    },
    {
      "cell_type": "code",
      "metadata": {
        "id": "-HEsJ86_BEGk"
      },
      "source": [
        "class FeatureLoss(nn.Module):\r\n",
        "    def __init__(self, m_feat, layer_ids, layer_wgts):\r\n",
        "        super().__init__()\r\n",
        "        self.m_feat = m_feat\r\n",
        "        self.loss_features = [self.m_feat[i] for i in layer_ids]\r\n",
        "        self.hooks = hook_outputs(self.loss_features, detach=False)\r\n",
        "        self.wgts = layer_wgts\r\n",
        "        self.metric_names = ['pixel',] + [f'feat_{i}' for i in range(len(layer_ids))\r\n",
        "              ] + [f'gram_{i}' for i in range(len(layer_ids))]\r\n",
        "\r\n",
        "    def make_features(self, x, clone=False):\r\n",
        "        self.m_feat(x)\r\n",
        "        return [(o.clone() if clone else o) for o in self.hooks.stored]\r\n",
        "    \r\n",
        "    def forward(self, input, target):\r\n",
        "        out_feat = self.make_features(target, clone=True)\r\n",
        "        in_feat = self.make_features(input)\r\n",
        "        self.feat_losses = [base_loss(input,target)]\r\n",
        "        self.feat_losses += [base_loss(f_in, f_out)*w\r\n",
        "                             for f_in, f_out, w in zip(in_feat, out_feat, self.wgts)]\r\n",
        "        self.feat_losses += [base_loss(gram_matrix(f_in), gram_matrix(f_out))*w**2 * 5e3\r\n",
        "                             for f_in, f_out, w in zip(in_feat, out_feat, self.wgts)]\r\n",
        "        self.metrics = dict(zip(self.metric_names, self.feat_losses))\r\n",
        "        return sum(self.feat_losses)\r\n",
        "    \r\n",
        "    def __del__(self): self.hooks.remove()"
      ],
      "execution_count": 38,
      "outputs": []
    },
    {
      "cell_type": "code",
      "metadata": {
        "id": "uU-dQjnxBMGB"
      },
      "source": [
        "MODEL_URL = \"https://www.dropbox.com/s/starqc9qd2e1lg1/ArtLine_650.pkl?dl=1\"\r\n",
        "urllib.request.urlretrieve(MODEL_URL, \"ArtLine_650.pkl\")\r\n",
        "path = Path(\".\")\r\n",
        "learn=load_learner(path, 'ArtLine_650.pkl')"
      ],
      "execution_count": null,
      "outputs": []
    },
    {
      "cell_type": "markdown",
      "metadata": {
        "id": "PXl3Wg_BmlSe"
      },
      "source": [
        "# **URL**\r\n",
        "Type in a url to a direct link of an **high quality image**. Usually that means they'll end in .png, .jpg, etc. \r\n",
        "\r\n",
        "**Note** : Works well with **portrait photos having good lighting and plain background**. But you're free to explore."
      ]
    },
    {
      "cell_type": "markdown",
      "metadata": {
        "id": "vE6yNVqwmqSJ"
      },
      "source": [
        "Link to high-quality portrait pics. Click on the image, let it expand and then copy image address.\r\n",
        "\r\n",
        "https://www.freepik.com/search?dates=any&format=search&from_query=Portrait&page=1&query=Portrait&sort=popular&type=photo"
      ]
    },
    {
      "cell_type": "code",
      "metadata": {
        "id": "Vtr_uW91mpgl",
        "cellView": "form"
      },
      "source": [
        "url = 'https://raw.githubusercontent.com/gkadusumilli/CNN-architectures/main/Capture.PNG' #@param {type:\"string\"}\r\n",
        "\r\n",
        "response = requests.get(url)\r\n",
        "img = PIL.Image.open(BytesIO(response.content)).convert(\"RGB\")\r\n",
        "im_new = add_margin(img, 250, 250, 250, 250, (255, 255, 255))\r\n",
        "im_new.save(\"test.jpg\", quality=95)\r\n",
        "img = open_image(\"test.jpg\")\r\n",
        "show_image(img, figsize=(10,10), interpolation='nearest');"
      ],
      "execution_count": null,
      "outputs": []
    },
    {
      "cell_type": "code",
      "metadata": {
        "id": "ojYo8SNr-JCR"
      },
      "source": [
        "#url = 'https://raw.githubusercontent.com/gkadusumilli/CNN-architectures/main/Capture.PNG' #@param {type:\"string\"}\r\n",
        "\r\n",
        "response = '/content/kohli.png'\r\n",
        "img = PIL.Image.open(response).convert(\"RGB\")\r\n",
        "im_new = add_margin(img, 250, 250, 250, 250, (255, 255, 255))\r\n",
        "im_new.save(\"test.jpg\", quality=95)\r\n",
        "img = open_image(\"test.jpg\")\r\n",
        "show_image(img, figsize=(10,10), interpolation='nearest');"
      ],
      "execution_count": null,
      "outputs": []
    },
    {
      "cell_type": "code",
      "metadata": {
        "id": "1WfxvLQpoIfF"
      },
      "source": [
        "p,img_hr,b = learn.predict(img)\r\n",
        "show_image(img_hr, figsize=(9,9), interpolation='nearest');"
      ],
      "execution_count": null,
      "outputs": []
    }
  ]
}