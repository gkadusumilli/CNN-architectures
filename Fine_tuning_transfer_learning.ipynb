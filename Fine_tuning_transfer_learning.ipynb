{
  "nbformat": 4,
  "nbformat_minor": 0,
  "metadata": {
    "colab": {
      "name": "Fine  tuning transfer learning.ipynb",
      "provenance": [],
      "authorship_tag": "ABX9TyPTivCcdTeZokvGkbS+FP0E",
      "include_colab_link": true
    },
    "kernelspec": {
      "name": "python3",
      "display_name": "Python 3"
    },
    "accelerator": "GPU"
  },
  "cells": [
    {
      "cell_type": "markdown",
      "metadata": {
        "id": "view-in-github",
        "colab_type": "text"
      },
      "source": [
        "<a href=\"https://colab.research.google.com/github/gkadusumilli/CNN-architectures/blob/main/Fine_tuning_transfer_learning.ipynb\" target=\"_parent\"><img src=\"https://colab.research.google.com/assets/colab-badge.svg\" alt=\"Open In Colab\"/></a>"
      ]
    },
    {
      "cell_type": "markdown",
      "metadata": {
        "id": "svzjJLY6xBjb"
      },
      "source": [
        "####1. Steps to download the dataset from the kaggle\r\n",
        "\r\n",
        "Refer: https://www.kaggle.com/general/74235"
      ]
    },
    {
      "cell_type": "code",
      "metadata": {
        "colab": {
          "base_uri": "https://localhost:8080/"
        },
        "id": "PcbO1-sRNhbg",
        "outputId": "33608f0f-d509-4c64-b7d9-8e185e01ca02"
      },
      "source": [
        "!pip install --upgrade --force-reinstall --no-deps kaggle"
      ],
      "execution_count": 50,
      "outputs": [
        {
          "output_type": "stream",
          "text": [
            "Processing /root/.cache/pip/wheels/3a/d1/7e/6ce09b72b770149802c653a02783821629146983ee5a360f10/kaggle-1.5.10-cp36-none-any.whl\n",
            "Installing collected packages: kaggle\n",
            "  Found existing installation: kaggle 1.5.10\n",
            "    Uninstalling kaggle-1.5.10:\n",
            "      Successfully uninstalled kaggle-1.5.10\n",
            "Successfully installed kaggle-1.5.10\n"
          ],
          "name": "stdout"
        }
      ]
    },
    {
      "cell_type": "code",
      "metadata": {
        "id": "ffRirh_RNkD5"
      },
      "source": [
        "from google.colab import files\r\n",
        "#uploading the kaggle.json files from the download directory\r\n",
        "files.upload()"
      ],
      "execution_count": null,
      "outputs": []
    },
    {
      "cell_type": "code",
      "metadata": {
        "id": "AZ0ak5WjNuu0"
      },
      "source": [
        "#create a new directory\r\n",
        "! mkdir ~/.kaggle"
      ],
      "execution_count": null,
      "outputs": []
    },
    {
      "cell_type": "code",
      "metadata": {
        "id": "WZ3jm2pIN4vG"
      },
      "source": [
        "! cp kaggle.json ~/.kaggle/"
      ],
      "execution_count": null,
      "outputs": []
    },
    {
      "cell_type": "code",
      "metadata": {
        "id": "rNINoF91N7LT"
      },
      "source": [
        "! chmod 600 ~/.kaggle/kaggle.json"
      ],
      "execution_count": null,
      "outputs": []
    },
    {
      "cell_type": "code",
      "metadata": {
        "id": "PFSzTUGsN9XH"
      },
      "source": [
        "! kaggle datasets list"
      ],
      "execution_count": null,
      "outputs": []
    },
    {
      "cell_type": "code",
      "metadata": {
        "id": "bjo7BzngOAD_"
      },
      "source": [
        "! kaggle datasets download 'sartajbhuvaji/brain-tumor-classification-mri'"
      ],
      "execution_count": null,
      "outputs": []
    },
    {
      "cell_type": "code",
      "metadata": {
        "id": "xkH-2hVBOgV3"
      },
      "source": [
        "!unzip /content/brain-tumor-classification-mri.zip"
      ],
      "execution_count": null,
      "outputs": []
    },
    {
      "cell_type": "markdown",
      "metadata": {
        "id": "FxgSqqscPRUI"
      },
      "source": [
        "####2. Importing the libraries"
      ]
    },
    {
      "cell_type": "code",
      "metadata": {
        "id": "AYSehM-hO0Ja"
      },
      "source": [
        "from keras.preprocessing.image import ImageDataGenerator\r\n",
        "from keras.preprocessing import image\r\n",
        "from keras.applications import imagenet_utils\r\n",
        "from keras.applications import vgg16\r\n",
        "from keras.optimizers import Adam, SGD\r\n",
        "from keras.metrics import categorical_crossentropy\r\n",
        "from keras.layers import Dense, Flatten, Dropout, BatchNormalization\r\n",
        "from keras.models import Model\r\n",
        "from sklearn.metrics import confusion_matrix\r\n",
        "import itertools\r\n",
        "import matplotlib.pyplot as plt\r\n",
        "%matplotlib inline"
      ],
      "execution_count": 53,
      "outputs": []
    },
    {
      "cell_type": "markdown",
      "metadata": {
        "id": "OhdqQYvTQDEy"
      },
      "source": [
        "####2. Preprocess the data"
      ]
    },
    {
      "cell_type": "code",
      "metadata": {
        "id": "26Q-XLnrar-G"
      },
      "source": [
        "#package\r\n",
        "!pip install split_folders\r\n"
      ],
      "execution_count": null,
      "outputs": []
    },
    {
      "cell_type": "code",
      "metadata": {
        "id": "EUJzRvopbMTt"
      },
      "source": [
        "#command to delete the folder\r\n",
        "!rm -rf /content/brain_tumor/Testing"
      ],
      "execution_count": null,
      "outputs": []
    },
    {
      "cell_type": "code",
      "metadata": {
        "id": "bkKRbF8gaxV1"
      },
      "source": [
        "import splitfolders\r\n",
        "#split the test folder two validation and testing with ratio of 0.5, 0.5 \r\n",
        "splitfolders.ratio(\"/content/brain_tumor/Testing\", output=\"output\", seed=1337, ratio=(0.0, 0.5,0.5))"
      ],
      "execution_count": null,
      "outputs": []
    },
    {
      "cell_type": "code",
      "metadata": {
        "colab": {
          "base_uri": "https://localhost:8080/"
        },
        "id": "2ywO3RU1QBvb",
        "outputId": "72b6200f-4301-46f3-a395-0fe3040c82ac"
      },
      "source": [
        "#loading the folders\r\n",
        "train_path = '/content/brain_tumor/Training'\r\n",
        "test_path = '/content/brain_tumor/Testing'\r\n",
        "valid_path ='/content/brain_tumor/Validation'\r\n",
        "\r\n",
        "train_batches = ImageDataGenerator().flow_from_directory(train_path,\r\n",
        "                                                         target_size=(224,224),\r\n",
        "                                                         batch_size=4)\r\n",
        "\r\n",
        "valid_batches = ImageDataGenerator().flow_from_directory(valid_path,\r\n",
        "                                                         target_size=(224,224),\r\n",
        "                                                         batch_size=30)\r\n",
        "\r\n",
        "test_batches = ImageDataGenerator().flow_from_directory(test_path,\r\n",
        "                                                         target_size=(224,224),\r\n",
        "                                                         batch_size=50,\r\n",
        "                                                         shuffle=False)\r\n"
      ],
      "execution_count": 54,
      "outputs": [
        {
          "output_type": "stream",
          "text": [
            "Found 2870 images belonging to 4 classes.\n",
            "Found 196 images belonging to 4 classes.\n",
            "Found 198 images belonging to 4 classes.\n"
          ],
          "name": "stdout"
        }
      ]
    },
    {
      "cell_type": "markdown",
      "metadata": {
        "id": "2uivXdHKyETS"
      },
      "source": [
        "####3. Loading the pre trained model\r\n",
        "\r\n",
        "Load in pretrained weights from the VGG16 network trained on a large dataset (ImageNet). "
      ]
    },
    {
      "cell_type": "code",
      "metadata": {
        "id": "-49GZ90DQ6iO"
      },
      "source": [
        "#Load in pretrained weights from the VGG16 network trained on a large dataset (ImageNet). \r\n",
        "base_model = vgg16.VGG16(weights=\"imagenet\", include_top=False,\r\n",
        "                         input_shape=(224,224,3),pooling='avg')\r\n"
      ],
      "execution_count": 55,
      "outputs": []
    },
    {
      "cell_type": "code",
      "metadata": {
        "colab": {
          "base_uri": "https://localhost:8080/"
        },
        "id": "pizdeSgERLqH",
        "outputId": "7e70eb31-4529-4002-afa1-8b3b438c61be"
      },
      "source": [
        "for layer in base_model.layers[:-5]:\r\n",
        "  layer.trainable=False\r\n",
        "\r\n",
        "base_model.summary()"
      ],
      "execution_count": 56,
      "outputs": [
        {
          "output_type": "stream",
          "text": [
            "Model: \"vgg16\"\n",
            "_________________________________________________________________\n",
            "Layer (type)                 Output Shape              Param #   \n",
            "=================================================================\n",
            "input_3 (InputLayer)         [(None, 224, 224, 3)]     0         \n",
            "_________________________________________________________________\n",
            "block1_conv1 (Conv2D)        (None, 224, 224, 64)      1792      \n",
            "_________________________________________________________________\n",
            "block1_conv2 (Conv2D)        (None, 224, 224, 64)      36928     \n",
            "_________________________________________________________________\n",
            "block1_pool (MaxPooling2D)   (None, 112, 112, 64)      0         \n",
            "_________________________________________________________________\n",
            "block2_conv1 (Conv2D)        (None, 112, 112, 128)     73856     \n",
            "_________________________________________________________________\n",
            "block2_conv2 (Conv2D)        (None, 112, 112, 128)     147584    \n",
            "_________________________________________________________________\n",
            "block2_pool (MaxPooling2D)   (None, 56, 56, 128)       0         \n",
            "_________________________________________________________________\n",
            "block3_conv1 (Conv2D)        (None, 56, 56, 256)       295168    \n",
            "_________________________________________________________________\n",
            "block3_conv2 (Conv2D)        (None, 56, 56, 256)       590080    \n",
            "_________________________________________________________________\n",
            "block3_conv3 (Conv2D)        (None, 56, 56, 256)       590080    \n",
            "_________________________________________________________________\n",
            "block3_pool (MaxPooling2D)   (None, 28, 28, 256)       0         \n",
            "_________________________________________________________________\n",
            "block4_conv1 (Conv2D)        (None, 28, 28, 512)       1180160   \n",
            "_________________________________________________________________\n",
            "block4_conv2 (Conv2D)        (None, 28, 28, 512)       2359808   \n",
            "_________________________________________________________________\n",
            "block4_conv3 (Conv2D)        (None, 28, 28, 512)       2359808   \n",
            "_________________________________________________________________\n",
            "block4_pool (MaxPooling2D)   (None, 14, 14, 512)       0         \n",
            "_________________________________________________________________\n",
            "block5_conv1 (Conv2D)        (None, 14, 14, 512)       2359808   \n",
            "_________________________________________________________________\n",
            "block5_conv2 (Conv2D)        (None, 14, 14, 512)       2359808   \n",
            "_________________________________________________________________\n",
            "block5_conv3 (Conv2D)        (None, 14, 14, 512)       2359808   \n",
            "_________________________________________________________________\n",
            "block5_pool (MaxPooling2D)   (None, 7, 7, 512)         0         \n",
            "_________________________________________________________________\n",
            "global_average_pooling2d_2 ( (None, 512)               0         \n",
            "=================================================================\n",
            "Total params: 14,714,688\n",
            "Trainable params: 7,079,424\n",
            "Non-trainable params: 7,635,264\n",
            "_________________________________________________________________\n"
          ],
          "name": "stdout"
        }
      ]
    },
    {
      "cell_type": "code",
      "metadata": {
        "colab": {
          "base_uri": "https://localhost:8080/"
        },
        "id": "512Z-o0JgdH3",
        "outputId": "b0619ee2-fc53-42d6-be9a-a4c9f9271a9a"
      },
      "source": [
        "for layer in base_model.layers:\r\n",
        "    print(layer.name)"
      ],
      "execution_count": 61,
      "outputs": [
        {
          "output_type": "stream",
          "text": [
            "input_3\n",
            "block1_conv1\n",
            "block1_conv2\n",
            "block1_pool\n",
            "block2_conv1\n",
            "block2_conv2\n",
            "block2_pool\n",
            "block3_conv1\n",
            "block3_conv2\n",
            "block3_conv3\n",
            "block3_pool\n",
            "block4_conv1\n",
            "block4_conv2\n",
            "block4_conv3\n",
            "block4_pool\n",
            "block5_conv1\n",
            "block5_conv2\n",
            "block5_conv3\n",
            "block5_pool\n",
            "global_average_pooling2d_2\n"
          ],
          "name": "stdout"
        }
      ]
    },
    {
      "cell_type": "code",
      "metadata": {
        "colab": {
          "base_uri": "https://localhost:8080/"
        },
        "id": "rMHEo6p-RZUs",
        "outputId": "4c1fd8e7-0837-4f36-feed-64d0ae174360"
      },
      "source": [
        "#use \"get_layer\" method to save the last layer of the network\r\n",
        "last_layer = base_model.get_layer('global_average_pooling2d_2')\r\n",
        "\r\n",
        "#save the output of the last layer to be the input of the next layer\r\n",
        "last_output=last_layer.output\r\n",
        "\r\n",
        "#add our new softmax layer with the 3 hidden units\r\n",
        "x =Dense(4, activation='softmax',name='softmax')(last_output)\r\n",
        "\r\n",
        "#instantiate a new model using keras model class\r\n",
        "new_model = Model(inputs=base_model.input, outputs=x)\r\n",
        "\r\n",
        "#print the new model summary\r\n",
        "new_model.summary()"
      ],
      "execution_count": 62,
      "outputs": [
        {
          "output_type": "stream",
          "text": [
            "Model: \"model_3\"\n",
            "_________________________________________________________________\n",
            "Layer (type)                 Output Shape              Param #   \n",
            "=================================================================\n",
            "input_3 (InputLayer)         [(None, 224, 224, 3)]     0         \n",
            "_________________________________________________________________\n",
            "block1_conv1 (Conv2D)        (None, 224, 224, 64)      1792      \n",
            "_________________________________________________________________\n",
            "block1_conv2 (Conv2D)        (None, 224, 224, 64)      36928     \n",
            "_________________________________________________________________\n",
            "block1_pool (MaxPooling2D)   (None, 112, 112, 64)      0         \n",
            "_________________________________________________________________\n",
            "block2_conv1 (Conv2D)        (None, 112, 112, 128)     73856     \n",
            "_________________________________________________________________\n",
            "block2_conv2 (Conv2D)        (None, 112, 112, 128)     147584    \n",
            "_________________________________________________________________\n",
            "block2_pool (MaxPooling2D)   (None, 56, 56, 128)       0         \n",
            "_________________________________________________________________\n",
            "block3_conv1 (Conv2D)        (None, 56, 56, 256)       295168    \n",
            "_________________________________________________________________\n",
            "block3_conv2 (Conv2D)        (None, 56, 56, 256)       590080    \n",
            "_________________________________________________________________\n",
            "block3_conv3 (Conv2D)        (None, 56, 56, 256)       590080    \n",
            "_________________________________________________________________\n",
            "block3_pool (MaxPooling2D)   (None, 28, 28, 256)       0         \n",
            "_________________________________________________________________\n",
            "block4_conv1 (Conv2D)        (None, 28, 28, 512)       1180160   \n",
            "_________________________________________________________________\n",
            "block4_conv2 (Conv2D)        (None, 28, 28, 512)       2359808   \n",
            "_________________________________________________________________\n",
            "block4_conv3 (Conv2D)        (None, 28, 28, 512)       2359808   \n",
            "_________________________________________________________________\n",
            "block4_pool (MaxPooling2D)   (None, 14, 14, 512)       0         \n",
            "_________________________________________________________________\n",
            "block5_conv1 (Conv2D)        (None, 14, 14, 512)       2359808   \n",
            "_________________________________________________________________\n",
            "block5_conv2 (Conv2D)        (None, 14, 14, 512)       2359808   \n",
            "_________________________________________________________________\n",
            "block5_conv3 (Conv2D)        (None, 14, 14, 512)       2359808   \n",
            "_________________________________________________________________\n",
            "block5_pool (MaxPooling2D)   (None, 7, 7, 512)         0         \n",
            "_________________________________________________________________\n",
            "global_average_pooling2d_2 ( (None, 512)               0         \n",
            "_________________________________________________________________\n",
            "softmax (Dense)              (None, 4)                 2052      \n",
            "=================================================================\n",
            "Total params: 14,716,740\n",
            "Trainable params: 7,081,476\n",
            "Non-trainable params: 7,635,264\n",
            "_________________________________________________________________\n"
          ],
          "name": "stdout"
        }
      ]
    },
    {
      "cell_type": "code",
      "metadata": {
        "colab": {
          "base_uri": "https://localhost:8080/"
        },
        "id": "8Z83tx-gS_IH",
        "outputId": "5d41b8b0-06b4-4427-adfb-5b5e86e835bd"
      },
      "source": [
        "new_model.compile(Adam(lr=0.0001),loss='categorical_crossentropy',\r\n",
        "                  metrics=['accuracy'])\r\n",
        "\r\n",
        "\r\n",
        "from keras.callbacks import ModelCheckpoint\r\n",
        "\r\n",
        "checkpointer=ModelCheckpoint(filepath='braintumor.model.hdf5',\r\n",
        "                                            save_best_only=True)\r\n",
        "\r\n",
        "history = new_model.fit_generator(train_batches,steps_per_epoch=18,\r\n",
        "                                  validation_data=valid_batches, validation_steps=3,\r\n",
        "                                  epochs=200, verbose=1, callbacks=[checkpointer])"
      ],
      "execution_count": 63,
      "outputs": [
        {
          "output_type": "stream",
          "text": [
            "/usr/local/lib/python3.6/dist-packages/tensorflow/python/keras/engine/training.py:1844: UserWarning: `Model.fit_generator` is deprecated and will be removed in a future version. Please use `Model.fit`, which supports generators.\n",
            "  warnings.warn('`Model.fit_generator` is deprecated and '\n"
          ],
          "name": "stderr"
        },
        {
          "output_type": "stream",
          "text": [
            "Epoch 1/200\n",
            "18/18 [==============================] - 4s 171ms/step - loss: 4.3424 - accuracy: 0.3462 - val_loss: 1.5240 - val_accuracy: 0.3111\n",
            "Epoch 2/200\n",
            "18/18 [==============================] - 1s 67ms/step - loss: 1.3233 - accuracy: 0.4836 - val_loss: 1.5208 - val_accuracy: 0.3000\n",
            "Epoch 3/200\n",
            "18/18 [==============================] - 1s 69ms/step - loss: 0.8961 - accuracy: 0.5331 - val_loss: 2.0853 - val_accuracy: 0.3222\n",
            "Epoch 4/200\n",
            "18/18 [==============================] - 1s 66ms/step - loss: 1.1453 - accuracy: 0.5127 - val_loss: 1.4780 - val_accuracy: 0.4111\n",
            "Epoch 5/200\n",
            "18/18 [==============================] - 1s 66ms/step - loss: 1.0202 - accuracy: 0.5784 - val_loss: 1.5165 - val_accuracy: 0.2889\n",
            "Epoch 6/200\n",
            "18/18 [==============================] - 1s 66ms/step - loss: 0.9038 - accuracy: 0.5734 - val_loss: 2.1553 - val_accuracy: 0.4444\n",
            "Epoch 7/200\n",
            "18/18 [==============================] - 1s 66ms/step - loss: 0.6703 - accuracy: 0.8141 - val_loss: 1.5272 - val_accuracy: 0.4333\n",
            "Epoch 8/200\n",
            "18/18 [==============================] - 1s 69ms/step - loss: 0.8335 - accuracy: 0.6257 - val_loss: 2.0412 - val_accuracy: 0.3333\n",
            "Epoch 9/200\n",
            "18/18 [==============================] - 1s 68ms/step - loss: 0.7749 - accuracy: 0.7072 - val_loss: 2.6278 - val_accuracy: 0.3778\n",
            "Epoch 10/200\n",
            "18/18 [==============================] - 1s 67ms/step - loss: 0.4963 - accuracy: 0.8017 - val_loss: 2.1687 - val_accuracy: 0.3556\n",
            "Epoch 11/200\n",
            "18/18 [==============================] - 1s 68ms/step - loss: 1.2256 - accuracy: 0.5916 - val_loss: 1.6160 - val_accuracy: 0.4111\n",
            "Epoch 12/200\n",
            "18/18 [==============================] - 1s 68ms/step - loss: 0.7169 - accuracy: 0.7274 - val_loss: 2.1014 - val_accuracy: 0.5111\n",
            "Epoch 13/200\n",
            "18/18 [==============================] - 1s 69ms/step - loss: 0.7409 - accuracy: 0.7680 - val_loss: 2.1193 - val_accuracy: 0.5000\n",
            "Epoch 14/200\n",
            "18/18 [==============================] - 1s 67ms/step - loss: 0.4370 - accuracy: 0.7983 - val_loss: 2.1512 - val_accuracy: 0.4000\n",
            "Epoch 15/200\n",
            "18/18 [==============================] - 1s 68ms/step - loss: 0.4637 - accuracy: 0.8515 - val_loss: 2.3109 - val_accuracy: 0.4333\n",
            "Epoch 16/200\n",
            "18/18 [==============================] - 1s 69ms/step - loss: 0.5369 - accuracy: 0.7373 - val_loss: 2.1190 - val_accuracy: 0.5222\n",
            "Epoch 17/200\n",
            "18/18 [==============================] - 1s 67ms/step - loss: 0.3668 - accuracy: 0.9076 - val_loss: 2.5182 - val_accuracy: 0.4667\n",
            "Epoch 18/200\n",
            "18/18 [==============================] - 1s 69ms/step - loss: 0.3729 - accuracy: 0.8953 - val_loss: 2.1414 - val_accuracy: 0.4222\n",
            "Epoch 19/200\n",
            "18/18 [==============================] - 1s 68ms/step - loss: 0.3511 - accuracy: 0.8399 - val_loss: 1.4817 - val_accuracy: 0.4889\n",
            "Epoch 20/200\n",
            "18/18 [==============================] - 1s 67ms/step - loss: 0.4229 - accuracy: 0.7251 - val_loss: 2.1050 - val_accuracy: 0.5778\n",
            "Epoch 21/200\n",
            "18/18 [==============================] - 1s 67ms/step - loss: 0.4186 - accuracy: 0.9096 - val_loss: 2.2382 - val_accuracy: 0.5333\n",
            "Epoch 22/200\n",
            "18/18 [==============================] - 1s 69ms/step - loss: 0.4490 - accuracy: 0.8639 - val_loss: 1.5933 - val_accuracy: 0.5333\n",
            "Epoch 23/200\n",
            "18/18 [==============================] - 1s 68ms/step - loss: 0.5824 - accuracy: 0.7719 - val_loss: 1.9539 - val_accuracy: 0.5667\n",
            "Epoch 24/200\n",
            "18/18 [==============================] - 1s 69ms/step - loss: 0.4715 - accuracy: 0.7676 - val_loss: 1.4411 - val_accuracy: 0.6556\n",
            "Epoch 25/200\n",
            "18/18 [==============================] - 1s 67ms/step - loss: 0.2081 - accuracy: 0.9207 - val_loss: 2.8560 - val_accuracy: 0.5778\n",
            "Epoch 26/200\n",
            "18/18 [==============================] - 1s 69ms/step - loss: 0.5709 - accuracy: 0.7525 - val_loss: 2.1178 - val_accuracy: 0.5111\n",
            "Epoch 27/200\n",
            "18/18 [==============================] - 1s 66ms/step - loss: 0.3458 - accuracy: 0.7922 - val_loss: 1.4126 - val_accuracy: 0.6333\n",
            "Epoch 28/200\n",
            "18/18 [==============================] - 1s 69ms/step - loss: 0.7897 - accuracy: 0.7331 - val_loss: 1.6262 - val_accuracy: 0.5444\n",
            "Epoch 29/200\n",
            "18/18 [==============================] - 1s 66ms/step - loss: 0.5299 - accuracy: 0.8542 - val_loss: 1.4838 - val_accuracy: 0.6444\n",
            "Epoch 30/200\n",
            "18/18 [==============================] - 1s 68ms/step - loss: 0.4718 - accuracy: 0.7957 - val_loss: 1.6463 - val_accuracy: 0.6444\n",
            "Epoch 31/200\n",
            "18/18 [==============================] - 1s 66ms/step - loss: 0.5749 - accuracy: 0.7832 - val_loss: 1.7714 - val_accuracy: 0.5667\n",
            "Epoch 32/200\n",
            "18/18 [==============================] - 1s 67ms/step - loss: 0.3143 - accuracy: 0.9201 - val_loss: 1.2058 - val_accuracy: 0.7000\n",
            "Epoch 33/200\n",
            "18/18 [==============================] - 1s 65ms/step - loss: 0.3850 - accuracy: 0.8086 - val_loss: 2.3667 - val_accuracy: 0.6222\n",
            "Epoch 34/200\n",
            "18/18 [==============================] - 1s 67ms/step - loss: 0.4569 - accuracy: 0.8589 - val_loss: 1.3372 - val_accuracy: 0.6444\n",
            "Epoch 35/200\n",
            "18/18 [==============================] - 1s 65ms/step - loss: 0.5486 - accuracy: 0.8092 - val_loss: 1.9344 - val_accuracy: 0.6222\n",
            "Epoch 36/200\n",
            "18/18 [==============================] - 1s 67ms/step - loss: 0.2845 - accuracy: 0.8915 - val_loss: 2.2965 - val_accuracy: 0.5000\n",
            "Epoch 37/200\n",
            "18/18 [==============================] - 1s 67ms/step - loss: 0.3327 - accuracy: 0.9223 - val_loss: 2.0173 - val_accuracy: 0.6222\n",
            "Epoch 38/200\n",
            "18/18 [==============================] - 1s 66ms/step - loss: 0.2444 - accuracy: 0.9055 - val_loss: 2.1510 - val_accuracy: 0.6111\n",
            "Epoch 39/200\n",
            "18/18 [==============================] - 1s 65ms/step - loss: 0.2866 - accuracy: 0.8801 - val_loss: 1.7489 - val_accuracy: 0.6444\n",
            "Epoch 40/200\n",
            "18/18 [==============================] - 1s 65ms/step - loss: 0.5170 - accuracy: 0.8144 - val_loss: 2.5713 - val_accuracy: 0.6889\n",
            "Epoch 41/200\n",
            "18/18 [==============================] - 1s 66ms/step - loss: 0.4114 - accuracy: 0.9024 - val_loss: 2.6216 - val_accuracy: 0.6000\n",
            "Epoch 42/200\n",
            "18/18 [==============================] - 1s 67ms/step - loss: 0.1516 - accuracy: 0.9733 - val_loss: 1.7938 - val_accuracy: 0.6778\n",
            "Epoch 43/200\n",
            "18/18 [==============================] - 1s 66ms/step - loss: 0.2355 - accuracy: 0.9245 - val_loss: 2.8594 - val_accuracy: 0.6111\n",
            "Epoch 44/200\n",
            "18/18 [==============================] - 1s 65ms/step - loss: 0.2563 - accuracy: 0.8987 - val_loss: 2.5382 - val_accuracy: 0.6333\n",
            "Epoch 45/200\n",
            "18/18 [==============================] - 1s 72ms/step - loss: 0.1558 - accuracy: 0.9429 - val_loss: 2.2778 - val_accuracy: 0.6778\n",
            "Epoch 46/200\n",
            "18/18 [==============================] - 1s 66ms/step - loss: 0.1871 - accuracy: 0.9093 - val_loss: 1.6244 - val_accuracy: 0.7222\n",
            "Epoch 47/200\n",
            "18/18 [==============================] - 1s 66ms/step - loss: 0.1870 - accuracy: 0.9267 - val_loss: 2.6437 - val_accuracy: 0.5333\n",
            "Epoch 48/200\n",
            "18/18 [==============================] - 1s 65ms/step - loss: 0.1924 - accuracy: 0.9428 - val_loss: 2.3730 - val_accuracy: 0.6889\n",
            "Epoch 49/200\n",
            "18/18 [==============================] - 1s 68ms/step - loss: 0.3837 - accuracy: 0.8844 - val_loss: 1.5861 - val_accuracy: 0.6222\n",
            "Epoch 50/200\n",
            "18/18 [==============================] - 1s 67ms/step - loss: 0.2256 - accuracy: 0.9225 - val_loss: 2.8396 - val_accuracy: 0.5333\n",
            "Epoch 51/200\n",
            "18/18 [==============================] - 1s 65ms/step - loss: 0.2808 - accuracy: 0.8914 - val_loss: 1.5327 - val_accuracy: 0.6667\n",
            "Epoch 52/200\n",
            "18/18 [==============================] - 1s 66ms/step - loss: 0.1385 - accuracy: 0.9696 - val_loss: 2.4364 - val_accuracy: 0.6667\n",
            "Epoch 53/200\n",
            "18/18 [==============================] - 1s 66ms/step - loss: 0.1814 - accuracy: 0.8906 - val_loss: 2.3832 - val_accuracy: 0.6000\n",
            "Epoch 54/200\n",
            "18/18 [==============================] - 1s 66ms/step - loss: 0.2256 - accuracy: 0.8952 - val_loss: 1.9824 - val_accuracy: 0.6444\n",
            "Epoch 55/200\n",
            "18/18 [==============================] - 1s 66ms/step - loss: 0.1974 - accuracy: 0.9425 - val_loss: 2.5501 - val_accuracy: 0.6222\n",
            "Epoch 56/200\n",
            "18/18 [==============================] - 1s 67ms/step - loss: 0.2690 - accuracy: 0.8883 - val_loss: 2.6479 - val_accuracy: 0.5000\n",
            "Epoch 57/200\n",
            "18/18 [==============================] - 1s 67ms/step - loss: 0.1866 - accuracy: 0.9404 - val_loss: 1.3314 - val_accuracy: 0.6889\n",
            "Epoch 58/200\n",
            "18/18 [==============================] - 1s 66ms/step - loss: 0.4725 - accuracy: 0.8620 - val_loss: 1.8575 - val_accuracy: 0.6333\n",
            "Epoch 59/200\n",
            "18/18 [==============================] - 1s 66ms/step - loss: 0.2445 - accuracy: 0.9452 - val_loss: 1.5968 - val_accuracy: 0.5667\n",
            "Epoch 60/200\n",
            "18/18 [==============================] - 1s 65ms/step - loss: 0.4059 - accuracy: 0.7912 - val_loss: 1.3217 - val_accuracy: 0.6556\n",
            "Epoch 61/200\n",
            "18/18 [==============================] - 1s 65ms/step - loss: 0.2244 - accuracy: 0.9147 - val_loss: 1.9544 - val_accuracy: 0.6444\n",
            "Epoch 62/200\n",
            "18/18 [==============================] - 1s 67ms/step - loss: 0.1621 - accuracy: 0.9412 - val_loss: 1.8393 - val_accuracy: 0.7222\n",
            "Epoch 63/200\n",
            "18/18 [==============================] - 1s 68ms/step - loss: 0.1316 - accuracy: 0.9432 - val_loss: 2.0170 - val_accuracy: 0.7444\n",
            "Epoch 64/200\n",
            "18/18 [==============================] - 1s 66ms/step - loss: 0.2150 - accuracy: 0.9449 - val_loss: 3.4648 - val_accuracy: 0.6222\n",
            "Epoch 65/200\n",
            "18/18 [==============================] - 1s 67ms/step - loss: 0.1183 - accuracy: 0.9723 - val_loss: 1.6967 - val_accuracy: 0.7000\n",
            "Epoch 66/200\n",
            "18/18 [==============================] - 1s 66ms/step - loss: 0.1447 - accuracy: 0.9502 - val_loss: 1.7458 - val_accuracy: 0.6444\n",
            "Epoch 67/200\n",
            "18/18 [==============================] - 1s 66ms/step - loss: 0.1351 - accuracy: 0.9682 - val_loss: 3.0823 - val_accuracy: 0.6111\n",
            "Epoch 68/200\n",
            "18/18 [==============================] - 1s 68ms/step - loss: 0.1717 - accuracy: 0.8609 - val_loss: 1.7800 - val_accuracy: 0.7222\n",
            "Epoch 69/200\n",
            "18/18 [==============================] - 1s 67ms/step - loss: 0.1531 - accuracy: 0.9578 - val_loss: 1.6373 - val_accuracy: 0.7778\n",
            "Epoch 70/200\n",
            "18/18 [==============================] - 1s 66ms/step - loss: 0.0742 - accuracy: 0.9837 - val_loss: 1.5009 - val_accuracy: 0.6889\n",
            "Epoch 71/200\n",
            "18/18 [==============================] - 1s 67ms/step - loss: 0.1634 - accuracy: 0.9532 - val_loss: 2.4237 - val_accuracy: 0.7000\n",
            "Epoch 72/200\n",
            "18/18 [==============================] - 1s 65ms/step - loss: 0.1194 - accuracy: 0.9543 - val_loss: 1.3882 - val_accuracy: 0.7556\n",
            "Epoch 73/200\n",
            "18/18 [==============================] - 1s 66ms/step - loss: 0.0750 - accuracy: 0.9679 - val_loss: 2.5429 - val_accuracy: 0.7000\n",
            "Epoch 74/200\n",
            "18/18 [==============================] - 1s 67ms/step - loss: 0.0850 - accuracy: 0.9625 - val_loss: 1.1584 - val_accuracy: 0.7111\n",
            "Epoch 75/200\n",
            "18/18 [==============================] - 1s 66ms/step - loss: 0.0767 - accuracy: 0.9833 - val_loss: 2.4584 - val_accuracy: 0.7333\n",
            "Epoch 76/200\n",
            "18/18 [==============================] - 1s 68ms/step - loss: 0.2243 - accuracy: 0.9141 - val_loss: 1.5025 - val_accuracy: 0.7111\n",
            "Epoch 77/200\n",
            "18/18 [==============================] - 1s 69ms/step - loss: 0.2984 - accuracy: 0.9235 - val_loss: 2.5797 - val_accuracy: 0.6778\n",
            "Epoch 78/200\n",
            "18/18 [==============================] - 1s 69ms/step - loss: 0.0712 - accuracy: 0.9679 - val_loss: 2.2487 - val_accuracy: 0.7000\n",
            "Epoch 79/200\n",
            "18/18 [==============================] - 1s 69ms/step - loss: 0.0784 - accuracy: 0.9924 - val_loss: 2.5682 - val_accuracy: 0.6444\n",
            "Epoch 80/200\n",
            "18/18 [==============================] - 1s 68ms/step - loss: 0.2265 - accuracy: 0.9457 - val_loss: 1.7048 - val_accuracy: 0.6556\n",
            "Epoch 81/200\n",
            "18/18 [==============================] - 1s 68ms/step - loss: 0.2852 - accuracy: 0.9305 - val_loss: 2.2888 - val_accuracy: 0.6444\n",
            "Epoch 82/200\n",
            "18/18 [==============================] - 1s 67ms/step - loss: 0.3298 - accuracy: 0.9324 - val_loss: 1.8768 - val_accuracy: 0.6222\n",
            "Epoch 83/200\n",
            "18/18 [==============================] - 1s 68ms/step - loss: 0.2366 - accuracy: 0.9067 - val_loss: 1.7466 - val_accuracy: 0.7111\n",
            "Epoch 84/200\n",
            "18/18 [==============================] - 1s 66ms/step - loss: 0.1296 - accuracy: 0.9890 - val_loss: 2.4596 - val_accuracy: 0.6778\n",
            "Epoch 85/200\n",
            "18/18 [==============================] - 1s 66ms/step - loss: 0.1069 - accuracy: 0.9807 - val_loss: 3.1122 - val_accuracy: 0.6778\n",
            "Epoch 86/200\n",
            "18/18 [==============================] - 1s 65ms/step - loss: 0.2265 - accuracy: 0.9464 - val_loss: 1.6549 - val_accuracy: 0.7222\n",
            "Epoch 87/200\n",
            "18/18 [==============================] - 1s 66ms/step - loss: 0.2144 - accuracy: 0.8964 - val_loss: 1.8139 - val_accuracy: 0.7444\n",
            "Epoch 88/200\n",
            "18/18 [==============================] - 1s 65ms/step - loss: 0.1173 - accuracy: 0.9496 - val_loss: 1.6309 - val_accuracy: 0.7889\n",
            "Epoch 89/200\n",
            "18/18 [==============================] - 1s 66ms/step - loss: 0.0815 - accuracy: 0.9874 - val_loss: 2.0618 - val_accuracy: 0.8222\n",
            "Epoch 90/200\n",
            "18/18 [==============================] - 1s 66ms/step - loss: 0.0604 - accuracy: 0.9801 - val_loss: 2.8386 - val_accuracy: 0.6778\n",
            "Epoch 91/200\n",
            "18/18 [==============================] - 1s 65ms/step - loss: 0.0917 - accuracy: 0.9729 - val_loss: 2.5510 - val_accuracy: 0.6778\n",
            "Epoch 92/200\n",
            "18/18 [==============================] - 1s 67ms/step - loss: 0.1235 - accuracy: 0.9703 - val_loss: 1.6999 - val_accuracy: 0.7778\n",
            "Epoch 93/200\n",
            "18/18 [==============================] - 1s 75ms/step - loss: 0.0672 - accuracy: 0.9585 - val_loss: 2.8783 - val_accuracy: 0.7667\n",
            "Epoch 94/200\n",
            "18/18 [==============================] - 1s 64ms/step - loss: 0.1307 - accuracy: 0.9505 - val_loss: 3.6095 - val_accuracy: 0.7556\n",
            "Epoch 95/200\n",
            "18/18 [==============================] - 1s 65ms/step - loss: 0.4910 - accuracy: 0.8737 - val_loss: 1.9797 - val_accuracy: 0.6667\n",
            "Epoch 96/200\n",
            "18/18 [==============================] - 1s 65ms/step - loss: 0.2691 - accuracy: 0.8997 - val_loss: 2.3544 - val_accuracy: 0.7556\n",
            "Epoch 97/200\n",
            "18/18 [==============================] - 1s 67ms/step - loss: 0.1593 - accuracy: 0.9412 - val_loss: 1.5948 - val_accuracy: 0.7556\n",
            "Epoch 98/200\n",
            "18/18 [==============================] - 1s 66ms/step - loss: 0.1139 - accuracy: 0.9462 - val_loss: 2.2092 - val_accuracy: 0.7444\n",
            "Epoch 99/200\n",
            "18/18 [==============================] - 1s 68ms/step - loss: 0.0738 - accuracy: 0.9969 - val_loss: 2.4202 - val_accuracy: 0.7333\n",
            "Epoch 100/200\n",
            "18/18 [==============================] - 1s 67ms/step - loss: 0.1159 - accuracy: 0.9505 - val_loss: 2.7106 - val_accuracy: 0.7222\n",
            "Epoch 101/200\n",
            "18/18 [==============================] - 1s 65ms/step - loss: 0.1430 - accuracy: 0.9258 - val_loss: 1.5133 - val_accuracy: 0.7556\n",
            "Epoch 102/200\n",
            "18/18 [==============================] - 1s 64ms/step - loss: 0.0481 - accuracy: 0.9969 - val_loss: 1.9893 - val_accuracy: 0.7444\n",
            "Epoch 103/200\n",
            "18/18 [==============================] - 1s 66ms/step - loss: 0.2972 - accuracy: 0.9138 - val_loss: 0.8794 - val_accuracy: 0.8000\n",
            "Epoch 104/200\n",
            "18/18 [==============================] - 1s 68ms/step - loss: 0.0918 - accuracy: 0.9593 - val_loss: 2.3383 - val_accuracy: 0.7444\n",
            "Epoch 105/200\n",
            "18/18 [==============================] - 1s 69ms/step - loss: 0.0614 - accuracy: 0.9978 - val_loss: 2.1898 - val_accuracy: 0.7667\n",
            "Epoch 106/200\n",
            "18/18 [==============================] - 1s 66ms/step - loss: 0.0896 - accuracy: 0.9843 - val_loss: 2.9705 - val_accuracy: 0.7111\n",
            "Epoch 107/200\n",
            "18/18 [==============================] - 1s 64ms/step - loss: 0.1264 - accuracy: 0.9677 - val_loss: 2.0993 - val_accuracy: 0.7556\n",
            "Epoch 108/200\n",
            "18/18 [==============================] - 1s 67ms/step - loss: 0.1479 - accuracy: 0.9307 - val_loss: 2.5787 - val_accuracy: 0.7556\n",
            "Epoch 109/200\n",
            "18/18 [==============================] - 1s 64ms/step - loss: 0.0323 - accuracy: 0.9985 - val_loss: 1.8500 - val_accuracy: 0.7889\n",
            "Epoch 110/200\n",
            "18/18 [==============================] - 1s 67ms/step - loss: 0.0431 - accuracy: 0.9985 - val_loss: 2.5284 - val_accuracy: 0.7444\n",
            "Epoch 111/200\n",
            "18/18 [==============================] - 1s 64ms/step - loss: 0.0369 - accuracy: 0.9985 - val_loss: 3.8975 - val_accuracy: 0.7556\n",
            "Epoch 112/200\n",
            "18/18 [==============================] - 1s 65ms/step - loss: 0.0466 - accuracy: 0.9883 - val_loss: 3.2847 - val_accuracy: 0.7667\n",
            "Epoch 113/200\n",
            "18/18 [==============================] - 1s 66ms/step - loss: 0.4806 - accuracy: 0.9032 - val_loss: 2.2824 - val_accuracy: 0.7111\n",
            "Epoch 114/200\n",
            "18/18 [==============================] - 1s 64ms/step - loss: 0.1046 - accuracy: 0.9439 - val_loss: 1.9346 - val_accuracy: 0.7111\n",
            "Epoch 115/200\n",
            "18/18 [==============================] - 1s 65ms/step - loss: 0.0434 - accuracy: 0.9880 - val_loss: 1.7027 - val_accuracy: 0.7778\n",
            "Epoch 116/200\n",
            "18/18 [==============================] - 1s 67ms/step - loss: 0.0263 - accuracy: 0.9951 - val_loss: 3.2424 - val_accuracy: 0.7111\n",
            "Epoch 117/200\n",
            "18/18 [==============================] - 1s 66ms/step - loss: 0.0607 - accuracy: 0.9533 - val_loss: 2.5103 - val_accuracy: 0.7000\n",
            "Epoch 118/200\n",
            "18/18 [==============================] - 1s 68ms/step - loss: 0.0536 - accuracy: 0.9796 - val_loss: 3.7630 - val_accuracy: 0.7000\n",
            "Epoch 119/200\n",
            "18/18 [==============================] - 1s 68ms/step - loss: 0.0905 - accuracy: 0.9712 - val_loss: 5.1337 - val_accuracy: 0.5889\n",
            "Epoch 120/200\n",
            "18/18 [==============================] - 1s 66ms/step - loss: 0.1081 - accuracy: 0.9273 - val_loss: 1.4700 - val_accuracy: 0.8333\n",
            "Epoch 121/200\n",
            "18/18 [==============================] - 1s 68ms/step - loss: 0.0918 - accuracy: 0.9745 - val_loss: 2.3644 - val_accuracy: 0.7111\n",
            "Epoch 122/200\n",
            "18/18 [==============================] - 1s 66ms/step - loss: 0.1031 - accuracy: 0.9715 - val_loss: 3.2831 - val_accuracy: 0.6111\n",
            "Epoch 123/200\n",
            "18/18 [==============================] - 1s 69ms/step - loss: 0.0625 - accuracy: 0.9921 - val_loss: 1.9278 - val_accuracy: 0.8222\n",
            "Epoch 124/200\n",
            "18/18 [==============================] - 1s 67ms/step - loss: 0.1706 - accuracy: 0.9051 - val_loss: 2.4101 - val_accuracy: 0.7111\n",
            "Epoch 125/200\n",
            "18/18 [==============================] - 1s 65ms/step - loss: 0.0607 - accuracy: 0.9851 - val_loss: 1.9403 - val_accuracy: 0.7222\n",
            "Epoch 126/200\n",
            "18/18 [==============================] - 1s 65ms/step - loss: 0.0307 - accuracy: 0.9930 - val_loss: 1.9913 - val_accuracy: 0.7556\n",
            "Epoch 127/200\n",
            "18/18 [==============================] - 1s 68ms/step - loss: 0.0400 - accuracy: 0.9815 - val_loss: 1.2132 - val_accuracy: 0.8000\n",
            "Epoch 128/200\n",
            "18/18 [==============================] - 1s 66ms/step - loss: 0.0783 - accuracy: 1.0000 - val_loss: 3.6167 - val_accuracy: 0.7556\n",
            "Epoch 129/200\n",
            "18/18 [==============================] - 1s 66ms/step - loss: 0.1225 - accuracy: 0.9421 - val_loss: 2.6797 - val_accuracy: 0.7222\n",
            "Epoch 130/200\n",
            "18/18 [==============================] - 1s 68ms/step - loss: 0.1344 - accuracy: 0.9324 - val_loss: 2.5918 - val_accuracy: 0.7444\n",
            "Epoch 131/200\n",
            "18/18 [==============================] - 1s 69ms/step - loss: 0.0801 - accuracy: 0.9698 - val_loss: 4.2013 - val_accuracy: 0.6778\n",
            "Epoch 132/200\n",
            "18/18 [==============================] - 1s 66ms/step - loss: 0.0461 - accuracy: 0.9691 - val_loss: 2.8775 - val_accuracy: 0.7444\n",
            "Epoch 133/200\n",
            "18/18 [==============================] - 1s 65ms/step - loss: 0.0536 - accuracy: 0.9774 - val_loss: 2.0790 - val_accuracy: 0.7778\n",
            "Epoch 134/200\n",
            "18/18 [==============================] - 1s 68ms/step - loss: 0.0762 - accuracy: 0.9670 - val_loss: 2.9552 - val_accuracy: 0.7333\n",
            "Epoch 135/200\n",
            "18/18 [==============================] - 1s 66ms/step - loss: 0.1638 - accuracy: 0.9465 - val_loss: 2.6937 - val_accuracy: 0.7111\n",
            "Epoch 136/200\n",
            "18/18 [==============================] - 1s 68ms/step - loss: 0.2491 - accuracy: 0.9380 - val_loss: 2.4386 - val_accuracy: 0.6667\n",
            "Epoch 137/200\n",
            "18/18 [==============================] - 1s 66ms/step - loss: 0.0784 - accuracy: 0.9806 - val_loss: 2.1377 - val_accuracy: 0.7444\n",
            "Epoch 138/200\n",
            "18/18 [==============================] - 1s 67ms/step - loss: 0.0224 - accuracy: 1.0000 - val_loss: 3.8760 - val_accuracy: 0.7111\n",
            "Epoch 139/200\n",
            "18/18 [==============================] - 1s 66ms/step - loss: 0.0562 - accuracy: 0.9663 - val_loss: 2.7901 - val_accuracy: 0.6889\n",
            "Epoch 140/200\n",
            "18/18 [==============================] - 1s 67ms/step - loss: 0.0551 - accuracy: 0.9691 - val_loss: 1.8359 - val_accuracy: 0.7222\n",
            "Epoch 141/200\n",
            "18/18 [==============================] - 1s 66ms/step - loss: 0.1053 - accuracy: 0.9874 - val_loss: 1.5314 - val_accuracy: 0.7667\n",
            "Epoch 142/200\n",
            "18/18 [==============================] - 1s 74ms/step - loss: 0.2238 - accuracy: 0.9007 - val_loss: 2.0375 - val_accuracy: 0.7444\n",
            "Epoch 143/200\n",
            "18/18 [==============================] - 1s 68ms/step - loss: 0.0809 - accuracy: 0.9664 - val_loss: 2.5466 - val_accuracy: 0.7111\n",
            "Epoch 144/200\n",
            "18/18 [==============================] - 1s 68ms/step - loss: 0.0205 - accuracy: 0.9969 - val_loss: 3.7149 - val_accuracy: 0.7333\n",
            "Epoch 145/200\n",
            "18/18 [==============================] - 1s 67ms/step - loss: 0.1742 - accuracy: 0.9119 - val_loss: 1.4288 - val_accuracy: 0.7889\n",
            "Epoch 146/200\n",
            "18/18 [==============================] - 1s 67ms/step - loss: 0.0251 - accuracy: 0.9939 - val_loss: 1.7888 - val_accuracy: 0.8000\n",
            "Epoch 147/200\n",
            "18/18 [==============================] - 1s 65ms/step - loss: 0.0798 - accuracy: 0.9640 - val_loss: 1.9324 - val_accuracy: 0.8111\n",
            "Epoch 148/200\n",
            "18/18 [==============================] - 1s 66ms/step - loss: 0.0483 - accuracy: 0.9951 - val_loss: 3.4686 - val_accuracy: 0.6556\n",
            "Epoch 149/200\n",
            "18/18 [==============================] - 1s 68ms/step - loss: 0.1026 - accuracy: 0.9785 - val_loss: 2.4678 - val_accuracy: 0.7444\n",
            "Epoch 150/200\n",
            "18/18 [==============================] - 1s 68ms/step - loss: 0.1866 - accuracy: 0.9782 - val_loss: 1.5410 - val_accuracy: 0.7778\n",
            "Epoch 151/200\n",
            "18/18 [==============================] - 1s 67ms/step - loss: 0.1119 - accuracy: 0.9643 - val_loss: 2.4175 - val_accuracy: 0.6222\n",
            "Epoch 152/200\n",
            "18/18 [==============================] - 1s 69ms/step - loss: 0.1433 - accuracy: 0.9425 - val_loss: 2.0214 - val_accuracy: 0.7333\n",
            "Epoch 153/200\n",
            "18/18 [==============================] - 1s 70ms/step - loss: 0.2150 - accuracy: 0.9158 - val_loss: 2.5920 - val_accuracy: 0.6333\n",
            "Epoch 154/200\n",
            "18/18 [==============================] - 1s 67ms/step - loss: 0.1520 - accuracy: 0.9202 - val_loss: 2.8293 - val_accuracy: 0.6778\n",
            "Epoch 155/200\n",
            "18/18 [==============================] - 1s 66ms/step - loss: 0.1496 - accuracy: 0.9414 - val_loss: 2.0436 - val_accuracy: 0.6778\n",
            "Epoch 156/200\n",
            "18/18 [==============================] - 1s 67ms/step - loss: 0.0315 - accuracy: 0.9855 - val_loss: 1.5638 - val_accuracy: 0.7333\n",
            "Epoch 157/200\n",
            "18/18 [==============================] - 1s 65ms/step - loss: 0.0422 - accuracy: 0.9915 - val_loss: 1.3838 - val_accuracy: 0.7556\n",
            "Epoch 158/200\n",
            "18/18 [==============================] - 1s 67ms/step - loss: 0.1465 - accuracy: 0.9640 - val_loss: 2.8342 - val_accuracy: 0.7000\n",
            "Epoch 159/200\n",
            "18/18 [==============================] - 1s 65ms/step - loss: 0.1474 - accuracy: 0.9516 - val_loss: 2.4921 - val_accuracy: 0.6444\n",
            "Epoch 160/200\n",
            "18/18 [==============================] - 1s 66ms/step - loss: 0.0508 - accuracy: 0.9951 - val_loss: 2.6462 - val_accuracy: 0.7444\n",
            "Epoch 161/200\n",
            "18/18 [==============================] - 1s 69ms/step - loss: 0.0196 - accuracy: 1.0000 - val_loss: 1.7455 - val_accuracy: 0.8556\n",
            "Epoch 162/200\n",
            "18/18 [==============================] - 1s 67ms/step - loss: 0.0438 - accuracy: 0.9833 - val_loss: 2.5578 - val_accuracy: 0.7778\n",
            "Epoch 163/200\n",
            "18/18 [==============================] - 1s 69ms/step - loss: 0.0495 - accuracy: 0.9918 - val_loss: 3.3224 - val_accuracy: 0.7556\n",
            "Epoch 164/200\n",
            "18/18 [==============================] - 1s 67ms/step - loss: 0.0589 - accuracy: 0.9835 - val_loss: 3.0478 - val_accuracy: 0.7556\n",
            "Epoch 165/200\n",
            "18/18 [==============================] - 1s 66ms/step - loss: 0.1096 - accuracy: 0.9591 - val_loss: 2.2414 - val_accuracy: 0.7778\n",
            "Epoch 166/200\n",
            "18/18 [==============================] - 1s 66ms/step - loss: 0.0803 - accuracy: 0.9807 - val_loss: 2.9111 - val_accuracy: 0.7556\n",
            "Epoch 167/200\n",
            "18/18 [==============================] - 1s 68ms/step - loss: 0.0130 - accuracy: 0.9985 - val_loss: 3.7408 - val_accuracy: 0.7000\n",
            "Epoch 168/200\n",
            "18/18 [==============================] - 1s 68ms/step - loss: 0.0072 - accuracy: 0.9978 - val_loss: 2.9053 - val_accuracy: 0.7444\n",
            "Epoch 169/200\n",
            "18/18 [==============================] - 1s 67ms/step - loss: 0.0106 - accuracy: 1.0000 - val_loss: 4.8437 - val_accuracy: 0.6556\n",
            "Epoch 170/200\n",
            "18/18 [==============================] - 1s 67ms/step - loss: 0.0296 - accuracy: 0.9969 - val_loss: 4.1772 - val_accuracy: 0.6667\n",
            "Epoch 171/200\n",
            "18/18 [==============================] - 1s 66ms/step - loss: 0.0491 - accuracy: 0.9804 - val_loss: 5.6304 - val_accuracy: 0.6000\n",
            "Epoch 172/200\n",
            "18/18 [==============================] - 1s 67ms/step - loss: 0.3692 - accuracy: 0.8319 - val_loss: 3.0191 - val_accuracy: 0.7000\n",
            "Epoch 173/200\n",
            "18/18 [==============================] - 1s 69ms/step - loss: 0.0960 - accuracy: 0.9766 - val_loss: 2.1566 - val_accuracy: 0.7556\n",
            "Epoch 174/200\n",
            "18/18 [==============================] - 1s 66ms/step - loss: 0.2008 - accuracy: 0.9462 - val_loss: 1.8981 - val_accuracy: 0.7889\n",
            "Epoch 175/200\n",
            "18/18 [==============================] - 1s 66ms/step - loss: 0.2600 - accuracy: 0.8469 - val_loss: 2.4432 - val_accuracy: 0.6667\n",
            "Epoch 176/200\n",
            "18/18 [==============================] - 1s 67ms/step - loss: 0.0921 - accuracy: 0.9859 - val_loss: 0.7879 - val_accuracy: 0.7889\n",
            "Epoch 177/200\n",
            "18/18 [==============================] - 1s 66ms/step - loss: 0.1725 - accuracy: 0.9232 - val_loss: 2.6031 - val_accuracy: 0.7333\n",
            "Epoch 178/200\n",
            "18/18 [==============================] - 1s 68ms/step - loss: 0.0607 - accuracy: 0.9776 - val_loss: 2.1129 - val_accuracy: 0.7889\n",
            "Epoch 179/200\n",
            "18/18 [==============================] - 1s 67ms/step - loss: 0.0169 - accuracy: 1.0000 - val_loss: 1.8088 - val_accuracy: 0.7778\n",
            "Epoch 180/200\n",
            "18/18 [==============================] - 1s 67ms/step - loss: 0.0292 - accuracy: 0.9890 - val_loss: 1.9302 - val_accuracy: 0.8222\n",
            "Epoch 181/200\n",
            "18/18 [==============================] - 1s 69ms/step - loss: 0.0602 - accuracy: 0.9664 - val_loss: 1.5149 - val_accuracy: 0.8222\n",
            "Epoch 182/200\n",
            "18/18 [==============================] - 1s 66ms/step - loss: 0.0400 - accuracy: 0.9874 - val_loss: 3.1303 - val_accuracy: 0.7556\n",
            "Epoch 183/200\n",
            "18/18 [==============================] - 1s 65ms/step - loss: 0.0839 - accuracy: 0.9634 - val_loss: 2.0227 - val_accuracy: 0.7667\n",
            "Epoch 184/200\n",
            "18/18 [==============================] - 1s 66ms/step - loss: 0.1926 - accuracy: 0.9150 - val_loss: 2.9280 - val_accuracy: 0.7333\n",
            "Epoch 185/200\n",
            "18/18 [==============================] - 1s 68ms/step - loss: 0.0418 - accuracy: 0.9930 - val_loss: 3.0213 - val_accuracy: 0.7667\n",
            "Epoch 186/200\n",
            "18/18 [==============================] - 1s 66ms/step - loss: 0.0064 - accuracy: 1.0000 - val_loss: 1.7704 - val_accuracy: 0.8111\n",
            "Epoch 187/200\n",
            "18/18 [==============================] - 1s 69ms/step - loss: 0.0030 - accuracy: 1.0000 - val_loss: 2.6922 - val_accuracy: 0.7778\n",
            "Epoch 188/200\n",
            "18/18 [==============================] - 1s 67ms/step - loss: 0.0346 - accuracy: 0.9852 - val_loss: 2.8911 - val_accuracy: 0.8000\n",
            "Epoch 189/200\n",
            "18/18 [==============================] - 1s 68ms/step - loss: 0.1128 - accuracy: 0.9681 - val_loss: 2.4926 - val_accuracy: 0.7556\n",
            "Epoch 190/200\n",
            "18/18 [==============================] - 1s 72ms/step - loss: 0.0090 - accuracy: 1.0000 - val_loss: 4.5365 - val_accuracy: 0.6667\n",
            "Epoch 191/200\n",
            "18/18 [==============================] - 1s 67ms/step - loss: 0.0250 - accuracy: 1.0000 - val_loss: 2.4784 - val_accuracy: 0.7778\n",
            "Epoch 192/200\n",
            "18/18 [==============================] - 1s 65ms/step - loss: 0.0185 - accuracy: 1.0000 - val_loss: 3.7743 - val_accuracy: 0.7556\n",
            "Epoch 193/200\n",
            "18/18 [==============================] - 1s 67ms/step - loss: 0.0254 - accuracy: 1.0000 - val_loss: 3.4192 - val_accuracy: 0.7444\n",
            "Epoch 194/200\n",
            "18/18 [==============================] - 1s 67ms/step - loss: 0.0169 - accuracy: 1.0000 - val_loss: 3.7897 - val_accuracy: 0.7556\n",
            "Epoch 195/200\n",
            "18/18 [==============================] - 1s 67ms/step - loss: 0.9370 - accuracy: 0.9526 - val_loss: 4.5395 - val_accuracy: 0.5333\n",
            "Epoch 196/200\n",
            "18/18 [==============================] - 1s 66ms/step - loss: 0.1232 - accuracy: 0.9427 - val_loss: 1.0743 - val_accuracy: 0.8000\n",
            "Epoch 197/200\n",
            "18/18 [==============================] - 1s 66ms/step - loss: 0.0210 - accuracy: 0.9978 - val_loss: 2.2261 - val_accuracy: 0.7111\n",
            "Epoch 198/200\n",
            "18/18 [==============================] - 1s 68ms/step - loss: 0.1461 - accuracy: 0.8873 - val_loss: 1.7568 - val_accuracy: 0.7222\n",
            "Epoch 199/200\n",
            "18/18 [==============================] - 1s 68ms/step - loss: 0.0300 - accuracy: 0.9951 - val_loss: 2.6169 - val_accuracy: 0.7000\n",
            "Epoch 200/200\n",
            "18/18 [==============================] - 1s 66ms/step - loss: 0.0151 - accuracy: 1.0000 - val_loss: 1.9500 - val_accuracy: 0.8000\n"
          ],
          "name": "stdout"
        }
      ]
    },
    {
      "cell_type": "code",
      "metadata": {
        "colab": {
          "base_uri": "https://localhost:8080/",
          "height": 295
        },
        "id": "ClBaT3odh375",
        "outputId": "1fcf9f93-14bb-4707-e331-c14f750a9edb"
      },
      "source": [
        "plt.plot(history.history[\"accuracy\"])\r\n",
        "plt.plot(history.history['val_accuracy'])\r\n",
        "plt.plot(history.history['loss'])\r\n",
        "plt.plot(history.history['val_loss'])\r\n",
        "plt.title(\"model accuracy\")\r\n",
        "plt.ylabel(\"Accuracy\")\r\n",
        "plt.xlabel(\"Epoch\")\r\n",
        "plt.legend([\"Accuracy\",\"Validation Accuracy\",\"loss\",\"Validation Loss\"])\r\n",
        "plt.show()"
      ],
      "execution_count": 64,
      "outputs": [
        {
          "output_type": "display_data",
          "data": {
            "image/png": "[encoded data removed]",
            "text/plain": [
              "<Figure size 432x288 with 1 Axes>"
            ]
          },
          "metadata": {
            "tags": [],
            "needs_background": "light"
          }
        }
      ]
    },
    {
      "cell_type": "code",
      "metadata": {
        "colab": {
          "base_uri": "https://localhost:8080/"
        },
        "id": "RnJP6Dcwiw9Y",
        "outputId": "0a36c065-5ee2-4172-fb51-9b90458d1e4f"
      },
      "source": [
        "print(test_batches.classes)"
      ],
      "execution_count": 65,
      "outputs": [
        {
          "output_type": "stream",
          "text": [
            "[0 0 0 0 0 0 0 0 0 0 0 0 0 0 0 0 0 0 0 0 0 0 0 0 0 0 0 0 0 0 0 0 0 0 0 0 0\n",
            " 0 0 0 0 0 0 0 0 0 0 0 0 0 1 1 1 1 1 1 1 1 1 1 1 1 1 1 1 1 1 1 1 1 1 1 1 1\n",
            " 1 1 1 1 1 1 1 1 1 1 1 1 1 1 1 1 1 1 1 1 1 1 1 1 1 1 1 1 1 1 1 1 1 1 2 2 2\n",
            " 2 2 2 2 2 2 2 2 2 2 2 2 2 2 2 2 2 2 2 2 2 2 2 2 2 2 2 2 2 2 2 2 2 2 2 2 2\n",
            " 2 2 2 2 2 2 2 2 2 2 2 2 2 3 3 3 3 3 3 3 3 3 3 3 3 3 3 3 3 3 3 3 3 3 3 3 3\n",
            " 3 3 3 3 3 3 3 3 3 3 3 3 3]\n"
          ],
          "name": "stdout"
        }
      ]
    },
    {
      "cell_type": "code",
      "metadata": {
        "id": "xhRe0ex6jC1p"
      },
      "source": [
        "prediction = new_model.predict(test_batches)\r\n"
      ],
      "execution_count": 88,
      "outputs": []
    },
    {
      "cell_type": "code",
      "metadata": {
        "colab": {
          "base_uri": "https://localhost:8080/"
        },
        "id": "T0Q4PRTEjff5",
        "outputId": "410c0932-3056-4659-cde3-5a63d65314af"
      },
      "source": [
        "import numpy as np\r\n",
        "predictions = np.argmax(prediction,axis=1)\r\n",
        "\r\n",
        "print(predictions)"
      ],
      "execution_count": 90,
      "outputs": [
        {
          "output_type": "stream",
          "text": [
            "[0 1 0 0 2 2 1 1 0 0 2 2 1 1 0 0 2 1 1 1 0 0 1 0 0 0 0 0 0 0 0 0 0 0 0 1 0\n",
            " 2 0 2 2 1 0 2 2 2 0 0 1 0 1 1 1 1 1 1 1 1 1 1 1 1 1 1 1 1 1 1 1 1 1 1 1 1\n",
            " 1 1 1 1 1 3 0 1 1 1 1 1 1 1 1 1 1 1 1 1 1 1 1 1 1 1 1 1 0 1 1 1 1 1 2 2 1\n",
            " 2 0 2 2 2 2 2 2 2 2 2 1 2 2 2 2 2 2 2 2 2 2 2 2 2 2 2 2 2 2 2 2 2 2 2 2 2\n",
            " 2 2 2 2 2 2 2 2 2 0 2 1 0 3 3 1 3 3 3 3 3 3 3 3 3 3 3 3 3 3 3 3 3 3 3 3 3\n",
            " 3 3 3 0 0 0 1 3 3 3 3 3 3]\n"
          ],
          "name": "stdout"
        }
      ]
    },
    {
      "cell_type": "code",
      "metadata": {
        "colab": {
          "base_uri": "https://localhost:8080/"
        },
        "id": "L3hAvbqdjm03",
        "outputId": "2b8b0c3b-c27f-494d-9e4e-7dee6512b86d"
      },
      "source": [
        "from sklearn import metrics\r\n",
        "\r\n",
        "print(metrics.confusion_matrix(test_batches.classes,predictions))\r\n",
        "\r\n",
        "\r\n",
        "target_names = ['class 0: glioma_tumor','class 1: meningioma_tumor','class 2: no_tumor','class 3: pituitary_tumor']\r\n",
        "\r\n",
        "print(metrics.classification_report(test_batches.classes,predictions,target_names = target_names))"
      ],
      "execution_count": 105,
      "outputs": [
        {
          "output_type": "stream",
          "text": [
            "[[27 12 11  0]\n",
            " [ 2 55  0  1]\n",
            " [ 3  3 47  0]\n",
            " [ 3  2  0 32]]\n",
            "                           precision    recall  f1-score   support\n",
            "\n",
            "    class 0: glioma_tumor       0.77      0.54      0.64        50\n",
            "class 1: meningioma_tumor       0.76      0.95      0.85        58\n",
            "        class 2: no_tumor       0.81      0.89      0.85        53\n",
            " class 3: pituitary_tumor       0.97      0.86      0.91        37\n",
            "\n",
            "                 accuracy                           0.81       198\n",
            "                macro avg       0.83      0.81      0.81       198\n",
            "             weighted avg       0.82      0.81      0.81       198\n",
            "\n"
          ],
          "name": "stdout"
        }
      ]
    }
  ]
}